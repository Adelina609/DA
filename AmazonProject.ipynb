{
 "cells": [
  {
   "cell_type": "markdown",
   "metadata": {},
   "source": [
    "# Amazon project - Employee Access Challenge"
   ]
  },
  {
   "cell_type": "raw",
   "metadata": {},
   "source": [
    "Когда сотрудник любой компании начинает работу, ему сначала необходимо получить доступ к компьютеру, необходимый для выполнения его роли. Этот доступ может позволить сотруднику читать / манипулировать ресурсами через различные приложения или веб-порталы. Предполагается, что сотрудники, выполняющие функции данной роли, будут иметь доступ к тем же или аналогичным ресурсам. \n",
    "Часто сотрудникам приходится выяснять, какой доступ им нужен, поскольку они сталкиваются с препятствиями во время своей повседневной работы (например, не могут войти на портал отчетности). Знающий и распределяющий сотрудникам доступы руководитель тратит время, чтобы вручную предоставить необходимый доступ, чтобы преодолеть препятствия для получения необходимых данных. Поскольку сотрудники перемещаются по всей компании, этот цикл обнаружения / восстановления доступа тратит нетривиальное количество времени и денег.\n",
    "\n",
    "Существует значительный объем данных о роли сотрудника в организации и ресурсах, к которым он имеет доступ. Учитывая данные, относящиеся к текущим сотрудникам и предоставленному им доступу, можно создавать модели, которые автоматически определяют привилегии доступа, когда сотрудники входят и выходят из ролей в компании. Эти модели автоматического доступа стремятся минимизировать участие человека, необходимое для предоставления или отзыва доступа сотрудника.\n",
    "\n",
    "Цель - построение модели, изученной с использованием исторических данных, которая будет определять потребности сотрудника в доступе, так что транзакции ручного доступа (предоставление и отзыв) минимизируются по мере изменения атрибутов сотрудника с течением времени. Модель будет принимать информацию о роли сотрудника и код ресурса и будет возвращать, должен ли быть предоставлен доступ."
   ]
  },
  {
   "cell_type": "raw",
   "metadata": {},
   "source": [
    "Данные состоят из реальных исторических данных, собранных за 2010 и 2011 годы. Сотрудникам вручную разрешают или запрещают доступ к ресурсам с течением времени. \n",
    "Это задача классификации – получение категориального ответа на основе набора признаков. "
   ]
  },
  {
   "cell_type": "markdown",
   "metadata": {},
   "source": [
    "| Column name | Description |\n",
    "| --- | --- |\n",
    "| ACTION | 1, если ресурс был утвержден, 0, если ресурс не был |\n",
    "| RESOURCE | Идентификатор ресурса |\n",
    "| MGR_ID | Идентификатор руководителя данного работника - у работника может быть только один руководитель |\n",
    "| ROLE_ROLLUP_1 | Идентификатор категории группы профессий/ролей компании 1 (US Engineering)  |\n",
    "| ROLE_ROLLUP_2 | Идентификатор категории группы профессий/ролей компании 2 (US Retail) |\n",
    "| ROLE_DEPTNAME | Название отдела (Retail) |\n",
    "| ROLE_TITLE | Название роли в этой компании (Senior Engineering Retail Manager) |\n",
    "| ROLE_FAMILY_DESC | Расширенное описание профессии (Retail Manager, Software Engineering) |\n",
    "| ROLE_FAMILY | Описание роли/профессии, название (Retail Manager) |\n",
    "| ROLE_CODE | Код компании; этот код уникален для каждой роли |"
   ]
  },
  {
   "cell_type": "raw",
   "metadata": {},
   "source": [
    "Импортируем необходимые библиотеки и методы:"
   ]
  },
  {
   "cell_type": "code",
   "execution_count": 50,
   "metadata": {},
   "outputs": [],
   "source": [
    "import pandas as pd\n",
    "import numpy as np\n",
    "import matplotlib.pyplot as plt\n",
    "import seaborn as sns\n",
    "from sklearn.model_selection import train_test_split\n",
    "from sklearn.metrics import roc_curve, auc, roc_auc_score\n",
    "from sklearn.ensemble import RandomForestClassifier, AdaBoostClassifier, GradientBoostingClassifier, BaggingClassifier\n",
    "from sklearn.linear_model import LogisticRegression\n",
    "from sklearn.tree import DecisionTreeClassifier\n",
    "from sklearn.model_selection import KFold, StratifiedKFold, cross_val_score"
   ]
  },
  {
   "cell_type": "raw",
   "metadata": {},
   "source": [
    "Находим тестовую и тренировочную выборки и загружаем их"
   ]
  },
  {
   "cell_type": "code",
   "execution_count": 51,
   "metadata": {},
   "outputs": [],
   "source": [
    "train = pd.read_csv(\"C:/Users/Lenovo/Downloads/data/train.csv\")\n",
    "test = pd.read_csv(\"C:/Users/Lenovo/Downloads/data/test.csv\")\n",
    "\n",
    "y = train[\"ACTION\"]"
   ]
  },
  {
   "cell_type": "raw",
   "metadata": {},
   "source": [
    "Рассмотрим содержание выборок: существующие признаки и их число"
   ]
  },
  {
   "cell_type": "code",
   "execution_count": 52,
   "metadata": {},
   "outputs": [
    {
     "name": "stdout",
     "output_type": "stream",
     "text": [
      "<class 'pandas.core.frame.DataFrame'>\n",
      "RangeIndex: 32769 entries, 0 to 32768\n",
      "Data columns (total 10 columns):\n",
      "ACTION              32769 non-null int64\n",
      "RESOURCE            32769 non-null int64\n",
      "MGR_ID              32769 non-null int64\n",
      "ROLE_ROLLUP_1       32769 non-null int64\n",
      "ROLE_ROLLUP_2       32769 non-null int64\n",
      "ROLE_DEPTNAME       32769 non-null int64\n",
      "ROLE_TITLE          32769 non-null int64\n",
      "ROLE_FAMILY_DESC    32769 non-null int64\n",
      "ROLE_FAMILY         32769 non-null int64\n",
      "ROLE_CODE           32769 non-null int64\n",
      "dtypes: int64(10)\n",
      "memory usage: 2.5 MB\n",
      "<class 'pandas.core.frame.DataFrame'>\n",
      "RangeIndex: 58921 entries, 0 to 58920\n",
      "Data columns (total 10 columns):\n",
      "id                  58921 non-null int64\n",
      "RESOURCE            58921 non-null int64\n",
      "MGR_ID              58921 non-null int64\n",
      "ROLE_ROLLUP_1       58921 non-null int64\n",
      "ROLE_ROLLUP_2       58921 non-null int64\n",
      "ROLE_DEPTNAME       58921 non-null int64\n",
      "ROLE_TITLE          58921 non-null int64\n",
      "ROLE_FAMILY_DESC    58921 non-null int64\n",
      "ROLE_FAMILY         58921 non-null int64\n",
      "ROLE_CODE           58921 non-null int64\n",
      "dtypes: int64(10)\n",
      "memory usage: 4.5 MB\n"
     ]
    }
   ],
   "source": [
    "train.info()\n",
    "test.info()"
   ]
  },
  {
   "cell_type": "code",
   "execution_count": 6,
   "metadata": {
    "scrolled": true
   },
   "outputs": [
    {
     "data": {
      "text/html": [
       "<div>\n",
       "<style scoped>\n",
       "    .dataframe tbody tr th:only-of-type {\n",
       "        vertical-align: middle;\n",
       "    }\n",
       "\n",
       "    .dataframe tbody tr th {\n",
       "        vertical-align: top;\n",
       "    }\n",
       "\n",
       "    .dataframe thead th {\n",
       "        text-align: right;\n",
       "    }\n",
       "</style>\n",
       "<table border=\"1\" class=\"dataframe\">\n",
       "  <thead>\n",
       "    <tr style=\"text-align: right;\">\n",
       "      <th></th>\n",
       "      <th>ACTION</th>\n",
       "      <th>RESOURCE</th>\n",
       "      <th>MGR_ID</th>\n",
       "      <th>ROLE_ROLLUP_1</th>\n",
       "      <th>ROLE_ROLLUP_2</th>\n",
       "      <th>ROLE_DEPTNAME</th>\n",
       "      <th>ROLE_TITLE</th>\n",
       "      <th>ROLE_FAMILY_DESC</th>\n",
       "      <th>ROLE_FAMILY</th>\n",
       "      <th>ROLE_CODE</th>\n",
       "    </tr>\n",
       "  </thead>\n",
       "  <tbody>\n",
       "    <tr>\n",
       "      <td>count</td>\n",
       "      <td>32769.000000</td>\n",
       "      <td>32769.000000</td>\n",
       "      <td>32769.000000</td>\n",
       "      <td>32769.000000</td>\n",
       "      <td>32769.000000</td>\n",
       "      <td>32769.000000</td>\n",
       "      <td>32769.000000</td>\n",
       "      <td>32769.000000</td>\n",
       "      <td>32769.000000</td>\n",
       "      <td>32769.000000</td>\n",
       "    </tr>\n",
       "    <tr>\n",
       "      <td>mean</td>\n",
       "      <td>0.942110</td>\n",
       "      <td>42923.916171</td>\n",
       "      <td>25988.957979</td>\n",
       "      <td>116952.627788</td>\n",
       "      <td>118301.823156</td>\n",
       "      <td>118912.779914</td>\n",
       "      <td>125916.152644</td>\n",
       "      <td>170178.369648</td>\n",
       "      <td>183703.408893</td>\n",
       "      <td>119789.430132</td>\n",
       "    </tr>\n",
       "    <tr>\n",
       "      <td>std</td>\n",
       "      <td>0.233539</td>\n",
       "      <td>34173.892702</td>\n",
       "      <td>35928.031650</td>\n",
       "      <td>10875.563591</td>\n",
       "      <td>4551.588572</td>\n",
       "      <td>18961.322917</td>\n",
       "      <td>31036.465825</td>\n",
       "      <td>69509.462130</td>\n",
       "      <td>100488.407413</td>\n",
       "      <td>5784.275516</td>\n",
       "    </tr>\n",
       "    <tr>\n",
       "      <td>min</td>\n",
       "      <td>0.000000</td>\n",
       "      <td>0.000000</td>\n",
       "      <td>25.000000</td>\n",
       "      <td>4292.000000</td>\n",
       "      <td>23779.000000</td>\n",
       "      <td>4674.000000</td>\n",
       "      <td>117879.000000</td>\n",
       "      <td>4673.000000</td>\n",
       "      <td>3130.000000</td>\n",
       "      <td>117880.000000</td>\n",
       "    </tr>\n",
       "    <tr>\n",
       "      <td>25%</td>\n",
       "      <td>1.000000</td>\n",
       "      <td>20299.000000</td>\n",
       "      <td>4566.000000</td>\n",
       "      <td>117961.000000</td>\n",
       "      <td>118102.000000</td>\n",
       "      <td>118395.000000</td>\n",
       "      <td>118274.000000</td>\n",
       "      <td>117906.000000</td>\n",
       "      <td>118363.000000</td>\n",
       "      <td>118232.000000</td>\n",
       "    </tr>\n",
       "    <tr>\n",
       "      <td>50%</td>\n",
       "      <td>1.000000</td>\n",
       "      <td>35376.000000</td>\n",
       "      <td>13545.000000</td>\n",
       "      <td>117961.000000</td>\n",
       "      <td>118300.000000</td>\n",
       "      <td>118921.000000</td>\n",
       "      <td>118568.000000</td>\n",
       "      <td>128696.000000</td>\n",
       "      <td>119006.000000</td>\n",
       "      <td>118570.000000</td>\n",
       "    </tr>\n",
       "    <tr>\n",
       "      <td>75%</td>\n",
       "      <td>1.000000</td>\n",
       "      <td>74189.000000</td>\n",
       "      <td>42034.000000</td>\n",
       "      <td>117961.000000</td>\n",
       "      <td>118386.000000</td>\n",
       "      <td>120535.000000</td>\n",
       "      <td>120006.000000</td>\n",
       "      <td>235280.000000</td>\n",
       "      <td>290919.000000</td>\n",
       "      <td>119348.000000</td>\n",
       "    </tr>\n",
       "    <tr>\n",
       "      <td>max</td>\n",
       "      <td>1.000000</td>\n",
       "      <td>312153.000000</td>\n",
       "      <td>311696.000000</td>\n",
       "      <td>311178.000000</td>\n",
       "      <td>286791.000000</td>\n",
       "      <td>286792.000000</td>\n",
       "      <td>311867.000000</td>\n",
       "      <td>311867.000000</td>\n",
       "      <td>308574.000000</td>\n",
       "      <td>270691.000000</td>\n",
       "    </tr>\n",
       "  </tbody>\n",
       "</table>\n",
       "</div>"
      ],
      "text/plain": [
       "             ACTION       RESOURCE         MGR_ID  ROLE_ROLLUP_1  \\\n",
       "count  32769.000000   32769.000000   32769.000000   32769.000000   \n",
       "mean       0.942110   42923.916171   25988.957979  116952.627788   \n",
       "std        0.233539   34173.892702   35928.031650   10875.563591   \n",
       "min        0.000000       0.000000      25.000000    4292.000000   \n",
       "25%        1.000000   20299.000000    4566.000000  117961.000000   \n",
       "50%        1.000000   35376.000000   13545.000000  117961.000000   \n",
       "75%        1.000000   74189.000000   42034.000000  117961.000000   \n",
       "max        1.000000  312153.000000  311696.000000  311178.000000   \n",
       "\n",
       "       ROLE_ROLLUP_2  ROLE_DEPTNAME     ROLE_TITLE  ROLE_FAMILY_DESC  \\\n",
       "count   32769.000000   32769.000000   32769.000000      32769.000000   \n",
       "mean   118301.823156  118912.779914  125916.152644     170178.369648   \n",
       "std      4551.588572   18961.322917   31036.465825      69509.462130   \n",
       "min     23779.000000    4674.000000  117879.000000       4673.000000   \n",
       "25%    118102.000000  118395.000000  118274.000000     117906.000000   \n",
       "50%    118300.000000  118921.000000  118568.000000     128696.000000   \n",
       "75%    118386.000000  120535.000000  120006.000000     235280.000000   \n",
       "max    286791.000000  286792.000000  311867.000000     311867.000000   \n",
       "\n",
       "         ROLE_FAMILY      ROLE_CODE  \n",
       "count   32769.000000   32769.000000  \n",
       "mean   183703.408893  119789.430132  \n",
       "std    100488.407413    5784.275516  \n",
       "min      3130.000000  117880.000000  \n",
       "25%    118363.000000  118232.000000  \n",
       "50%    119006.000000  118570.000000  \n",
       "75%    290919.000000  119348.000000  \n",
       "max    308574.000000  270691.000000  "
      ]
     },
     "execution_count": 6,
     "metadata": {},
     "output_type": "execute_result"
    }
   ],
   "source": [
    "# Чтобы узнать разброс значений, среднюю стоимость и медиану в каждом из признаков, используем метод .describe():\n",
    "train.describe()"
   ]
  },
  {
   "cell_type": "code",
   "execution_count": 53,
   "metadata": {},
   "outputs": [
    {
     "data": {
      "text/plain": [
       "ACTION              0\n",
       "RESOURCE            0\n",
       "MGR_ID              0\n",
       "ROLE_ROLLUP_1       0\n",
       "ROLE_ROLLUP_2       0\n",
       "ROLE_DEPTNAME       0\n",
       "ROLE_TITLE          0\n",
       "ROLE_FAMILY_DESC    0\n",
       "ROLE_FAMILY         0\n",
       "ROLE_CODE           0\n",
       "dtype: int64"
      ]
     },
     "execution_count": 53,
     "metadata": {},
     "output_type": "execute_result"
    }
   ],
   "source": [
    "# Проверим, имеются ли пустые, незаполненные ячейки в тренировочной выборке\n",
    "train.isna().sum()"
   ]
  },
  {
   "cell_type": "code",
   "execution_count": 54,
   "metadata": {},
   "outputs": [
    {
     "data": {
      "text/html": [
       "<div>\n",
       "<style scoped>\n",
       "    .dataframe tbody tr th:only-of-type {\n",
       "        vertical-align: middle;\n",
       "    }\n",
       "\n",
       "    .dataframe tbody tr th {\n",
       "        vertical-align: top;\n",
       "    }\n",
       "\n",
       "    .dataframe thead th {\n",
       "        text-align: right;\n",
       "    }\n",
       "</style>\n",
       "<table border=\"1\" class=\"dataframe\">\n",
       "  <thead>\n",
       "    <tr style=\"text-align: right;\">\n",
       "      <th></th>\n",
       "      <th>RESOURCE</th>\n",
       "      <th>MGR_ID</th>\n",
       "      <th>ROLE_ROLLUP_1</th>\n",
       "      <th>ROLE_ROLLUP_2</th>\n",
       "      <th>ROLE_DEPTNAME</th>\n",
       "      <th>ROLE_TITLE</th>\n",
       "      <th>ROLE_FAMILY_DESC</th>\n",
       "      <th>ROLE_FAMILY</th>\n",
       "      <th>ROLE_CODE</th>\n",
       "    </tr>\n",
       "    <tr>\n",
       "      <th>ACTION</th>\n",
       "      <th></th>\n",
       "      <th></th>\n",
       "      <th></th>\n",
       "      <th></th>\n",
       "      <th></th>\n",
       "      <th></th>\n",
       "      <th></th>\n",
       "      <th></th>\n",
       "      <th></th>\n",
       "    </tr>\n",
       "  </thead>\n",
       "  <tbody>\n",
       "    <tr>\n",
       "      <td>0</td>\n",
       "      <td>1897</td>\n",
       "      <td>1897</td>\n",
       "      <td>1897</td>\n",
       "      <td>1897</td>\n",
       "      <td>1897</td>\n",
       "      <td>1897</td>\n",
       "      <td>1897</td>\n",
       "      <td>1897</td>\n",
       "      <td>1897</td>\n",
       "    </tr>\n",
       "    <tr>\n",
       "      <td>1</td>\n",
       "      <td>30872</td>\n",
       "      <td>30872</td>\n",
       "      <td>30872</td>\n",
       "      <td>30872</td>\n",
       "      <td>30872</td>\n",
       "      <td>30872</td>\n",
       "      <td>30872</td>\n",
       "      <td>30872</td>\n",
       "      <td>30872</td>\n",
       "    </tr>\n",
       "  </tbody>\n",
       "</table>\n",
       "</div>"
      ],
      "text/plain": [
       "        RESOURCE  MGR_ID  ROLE_ROLLUP_1  ROLE_ROLLUP_2  ROLE_DEPTNAME  \\\n",
       "ACTION                                                                  \n",
       "0           1897    1897           1897           1897           1897   \n",
       "1          30872   30872          30872          30872          30872   \n",
       "\n",
       "        ROLE_TITLE  ROLE_FAMILY_DESC  ROLE_FAMILY  ROLE_CODE  \n",
       "ACTION                                                        \n",
       "0             1897              1897         1897       1897  \n",
       "1            30872             30872        30872      30872  "
      ]
     },
     "execution_count": 54,
     "metadata": {},
     "output_type": "execute_result"
    }
   ],
   "source": [
    "# Наблюдаем баланс выборки и как распределены данные в тренировочной выборке по искомому критерию\n",
    "train.groupby('ACTION').count()"
   ]
  },
  {
   "cell_type": "raw",
   "metadata": {},
   "source": [
    "Univariate analysis или одномерный анализ - анализ каждого признака по отдельности для определения и нахождения признаков, значения которого оказывают наиболее сильное влияние на модель и ее свойства."
   ]
  },
  {
   "cell_type": "code",
   "execution_count": 55,
   "metadata": {},
   "outputs": [
    {
     "data": {
      "image/png": "[encoded data removed]",
      "text/plain": [
       "<Figure size 432x288 with 1 Axes>"
      ]
     },
     "metadata": {
      "needs_background": "light"
     },
     "output_type": "display_data"
    },
    {
     "data": {
      "image/png": "[encoded data removed]",
      "text/plain": [
       "<Figure size 432x288 with 1 Axes>"
      ]
     },
     "metadata": {
      "needs_background": "light"
     },
     "output_type": "display_data"
    },
    {
     "data": {
      "image/png": "[encoded data removed]",
      "text/plain": [
       "<Figure size 432x288 with 1 Axes>"
      ]
     },
     "metadata": {
      "needs_background": "light"
     },
     "output_type": "display_data"
    },
    {
     "data": {
      "image/png": "[encoded data removed]",
      "text/plain": [
       "<Figure size 432x288 with 1 Axes>"
      ]
     },
     "metadata": {
      "needs_background": "light"
     },
     "output_type": "display_data"
    },
    {
     "data": {
      "image/png": "[encoded data removed]",
      "text/plain": [
       "<Figure size 432x288 with 1 Axes>"
      ]
     },
     "metadata": {
      "needs_background": "light"
     },
     "output_type": "display_data"
    },
    {
     "data": {
      "image/png": "[encoded data removed]",
      "text/plain": [
       "<Figure size 432x288 with 1 Axes>"
      ]
     },
     "metadata": {
      "needs_background": "light"
     },
     "output_type": "display_data"
    },
    {
     "data": {
      "image/png": "[encoded data removed]",
      "text/plain": [
       "<Figure size 432x288 with 1 Axes>"
      ]
     },
     "metadata": {
      "needs_background": "light"
     },
     "output_type": "display_data"
    },
    {
     "data": {
      "image/png": "[encoded data removed]",
      "text/plain": [
       "<Figure size 432x288 with 1 Axes>"
      ]
     },
     "metadata": {
      "needs_background": "light"
     },
     "output_type": "display_data"
    },
    {
     "data": {
      "image/png": "[encoded data removed]",
      "text/plain": [
       "<Figure size 432x288 with 1 Axes>"
      ]
     },
     "metadata": {
      "needs_background": "light"
     },
     "output_type": "display_data"
    },
    {
     "data": {
      "image/png": "[encoded data removed]",
      "text/plain": [
       "<Figure size 432x288 with 1 Axes>"
      ]
     },
     "metadata": {
      "needs_background": "light"
     },
     "output_type": "display_data"
    }
   ],
   "source": [
    "for i in train.var().index:\n",
    "    sns.distplot(train[i],kde=False)\n",
    "    plt.show()"
   ]
  },
  {
   "cell_type": "raw",
   "metadata": {},
   "source": [
    "Бивариантный анализ\n",
    "\n",
    "Корреляция – связь между двумя метрическими переменными. При построении корреляции, мы ищем признаки, зависимые друг от друга или каким-либо образом влияющие на значения друг друга. \n",
    "Коэффициент корреляции признака с самим собой всегда равен единице, это значение не должно учитываться при исследовании зависимостей.\n",
    "Удобное представление коэффициентов корреляции - тепловая карта, представленная ниже:"
   ]
  },
  {
   "cell_type": "code",
   "execution_count": 56,
   "metadata": {},
   "outputs": [
    {
     "data": {
      "text/plain": [
       "<matplotlib.axes._subplots.AxesSubplot at 0x22300185d08>"
      ]
     },
     "execution_count": 56,
     "metadata": {},
     "output_type": "execute_result"
    },
    {
     "data": {
      "image/png": "[encoded data removed]",
      "text/plain": [
       "<Figure size 1440x720 with 2 Axes>"
      ]
     },
     "metadata": {
      "needs_background": "light"
     },
     "output_type": "display_data"
    }
   ],
   "source": [
    "plt.figure(figsize=(20,10))\n",
    "sns.heatmap(train.corr())"
   ]
  },
  {
   "cell_type": "raw",
   "metadata": {},
   "source": [
    "Из построенной тепловой карты можно сделать вывод, что признаки слабо коррелируют между собой. Есть некоторая корреляция признаков, связанных с профессией (ROLE_TITLE, ROLE_FAMILY_DESC, ROLE_CODE), но эта корреляция очевидна на интуитивном уровне."
   ]
  },
  {
   "cell_type": "code",
   "execution_count": 57,
   "metadata": {},
   "outputs": [],
   "source": [
    "y_train = train['ACTION']\n",
    "x_train = train[train.columns.difference(['ACTION'])]\n",
    "x_test = test"
   ]
  },
  {
   "cell_type": "markdown",
   "metadata": {},
   "source": [
    "\n",
    "# Base classifiers"
   ]
  },
  {
   "cell_type": "raw",
   "metadata": {},
   "source": [
    "Классификатор дает «базовую» производительность – то есть показатель успеха, которого следует ожидать, даже если просто угадать."
   ]
  },
  {
   "cell_type": "raw",
   "metadata": {},
   "source": [
    "Если при анализе объектов обнаружено, что 90% содержат целевое свойство (что в нашем случае является близким), то угадать, что каждый будущий экземпляр объекта обладает целевым свойством, дает 90% вероятность правильного угадывания. \n",
    "Структурирование догадок таким образом эквивалентно использованию метода most_frequent."
   ]
  },
  {
   "cell_type": "code",
   "execution_count": 58,
   "metadata": {},
   "outputs": [
    {
     "data": {
      "text/plain": [
       "0.9421099209618847"
      ]
     },
     "execution_count": 58,
     "metadata": {},
     "output_type": "execute_result"
    }
   ],
   "source": [
    "from sklearn.dummy import DummyClassifier\n",
    "from sklearn.metrics import accuracy_score\n",
    "clf = DummyClassifier(strategy='most_frequent',random_state=0)\n",
    "clf.fit(x_train, y_train)\n",
    "predictions = clf.predict(x_train)\n",
    "accuracy_score(y_train,predictions)"
   ]
  },
  {
   "cell_type": "raw",
   "metadata": {},
   "source": [
    "При использовании фиктивного классификатора с параметром dummy, мы получим равномерное рандомное распределение, что нам точно не подходит, т.к. мы видим, что случай не получения доступа очень редок по сравнению со случаем его получения."
   ]
  },
  {
   "cell_type": "code",
   "execution_count": 59,
   "metadata": {},
   "outputs": [
    {
     "data": {
      "text/plain": [
       "0.4990387256248283"
      ]
     },
     "execution_count": 59,
     "metadata": {},
     "output_type": "execute_result"
    }
   ],
   "source": [
    "clf = DummyClassifier(strategy='uniform',random_state=0)\n",
    "clf.fit(x_train, y_train)\n",
    "clf.score(x_train,y_train)\n"
   ]
  },
  {
   "cell_type": "raw",
   "metadata": {},
   "source": [
    "При использовании фиктивного классификатора со stratified параметром, используя данные, рассмотренные выше, этот классификатор  прогнозирует вероятность 90% того, что каждый объект, с которым он сталкивается, обладает целевым свойством. \n",
    "Это отличается от обучения фиктивного классификатора параметром most_frequent , поскольку последний предположил бы, что все будущие объекты обладают целевым свойством."
   ]
  },
  {
   "cell_type": "code",
   "execution_count": 60,
   "metadata": {},
   "outputs": [
    {
     "data": {
      "text/plain": [
       "0.8905978211114163"
      ]
     },
     "execution_count": 60,
     "metadata": {},
     "output_type": "execute_result"
    }
   ],
   "source": [
    "clf = DummyClassifier(strategy='stratified',random_state=0)\n",
    "clf.fit(x_train, y_train)\n",
    "clf.score(x_train,y_train)"
   ]
  },
  {
   "cell_type": "markdown",
   "metadata": {},
   "source": [
    "#### Благодаря использованию вышеописанных классификаторов, а также просмотру описательных характеристик данных, мы видим, что выборка несбалансированна, поэтому мы можем не рассматривать некоторые методы, дающие качественную оценку только на сбалансированных данных \n"
   ]
  },
  {
   "cell_type": "markdown",
   "metadata": {},
   "source": [
    "## Часть 2."
   ]
  },
  {
   "cell_type": "markdown",
   "metadata": {},
   "source": [
    "##### Decision Tree Classifier"
   ]
  },
  {
   "cell_type": "raw",
   "metadata": {},
   "source": [
    "Дерево принятия решений\n",
    "Это метод поддержки принятия решений, основанный на использовании древовидного графа: модели принятия решений, которая учитывает их потенциальные последствия (с расчётом вероятности наступления того или иного события), эффективность, ресурсозатратность.\n",
    "\n",
    "Для бизнес-процессов это дерево складывается из минимального числа вопросов, предполагающих однозначный ответ — «да» или «нет». Последовательно дав ответы на все эти вопросы, мы приходим к правильному выбору. Методологические преимущества дерева принятия решений – в том, что оно структурирует и систематизирует проблему, а итоговое решение принимается на основе логических выводов.\n",
    "\n",
    "Решающее дерево- покрывающий набор конъюнкций.\n",
    "Требование максимизации информативности конъюнкций  означает, что каждая из них должна выделять как можно больше обучающих объектов, допуская при этом как можно меньше ошибок. \n",
    "Для повышения обобщающей способности решающего дерева число листьев должно быть как можно меньше, и они должны покрывать подвыборки примерно одинаковой мощности ."
   ]
  },
  {
   "cell_type": "code",
   "execution_count": 61,
   "metadata": {},
   "outputs": [
    {
     "name": "stdout",
     "output_type": "stream",
     "text": [
      "[[  28  343]\n",
      " [  16 6167]]\n",
      "Confusion matrix of train model\n",
      "[[  171  1355]\n",
      " [   48 24641]]\n",
      "\n",
      "Gini classifier\n",
      "Accuracy Score of test dataset\n",
      "0.9452242905096124\n",
      "Accuracy Score of train dataset\n",
      "0.9464810223154683\n",
      "\n",
      "Entropy classifier\n",
      "Accuracy Score of test dataset\n",
      "0.9441562404638388\n",
      "Accuracy Score of train dataset\n",
      "0.945260347129506\n"
     ]
    }
   ],
   "source": [
    "from sklearn.metrics import confusion_matrix\n",
    "model = DecisionTreeClassifier(max_depth=8,random_state=4, criterion='gini',min_samples_leaf=2)\n",
    "X_train,X_test,Y_train,Y_test=train_test_split(x_train,y_train,test_size=0.20,random_state=43)\n",
    "model.fit(X_train,Y_train)\n",
    "model.predict(X_test)\n",
    "model.predict(X_train)\n",
    "print(confusion_matrix(Y_test,model.predict(X_test)))\n",
    "print(\"Confusion matrix of train model\")\n",
    "print(confusion_matrix(Y_train,model.predict(X_train)))\n",
    "print('\\nGini classifier')\n",
    "print('Accuracy Score of test dataset')\n",
    "print(accuracy_score(Y_test,model.predict(X_test)))\n",
    "print(\"Accuracy Score of train dataset\")\n",
    "print(accuracy_score(Y_train,model.predict(X_train)))\n",
    "\n",
    "print('\\nEntropy classifier')\n",
    "model2 = DecisionTreeClassifier(max_depth=8,random_state=4, criterion='entropy',min_samples_leaf=2)\n",
    "X_train,X_test,Y_train,Y_test=train_test_split(x_train,y_train,test_size=0.20,random_state=43)\n",
    "model2.fit(X_train,Y_train)\n",
    "model2.predict(X_test)\n",
    "model2.predict(X_train)\n",
    "print('Accuracy Score of test dataset')\n",
    "print(accuracy_score(Y_test,model2.predict(X_test)))\n",
    "print(\"Accuracy Score of train dataset\")\n",
    "print(accuracy_score(Y_train,model2.predict(X_train)))"
   ]
  },
  {
   "cell_type": "raw",
   "metadata": {},
   "source": [
    "Можно заметить, что дерево решений с использованием критерия Джини дает более высокие результаты."
   ]
  },
  {
   "cell_type": "code",
   "execution_count": 39,
   "metadata": {},
   "outputs": [
    {
     "data": {
      "text/plain": [
       "[Text(131.91953125, 205.35999999999999, 'X[4] <= 68840.0\\nentropy = 0.32\\nsamples = 26215\\nvalue = [1526, 24689]'),\n",
       " Text(51.7796875, 181.2, 'X[7] <= 117961.0\\nentropy = 0.477\\nsamples = 2905\\nvalue = [298, 2607]'),\n",
       " Text(28.675, 157.04, 'X[1] <= 38164.5\\nentropy = 0.261\\nsamples = 838\\nvalue = [37, 801]'),\n",
       " Text(15.5, 132.88, 'X[1] <= 26434.0\\nentropy = 0.323\\nsamples = 561\\nvalue = [33, 528]'),\n",
       " Text(6.2, 108.72, 'X[6] <= 117906.0\\nentropy = 0.207\\nsamples = 337\\nvalue = [11, 326]'),\n",
       " Text(4.65, 84.56, 'entropy = 0.0\\nsamples = 116\\nvalue = [0, 116]'),\n",
       " Text(7.75, 84.56, 'X[6] <= 117955.0\\nentropy = 0.285\\nsamples = 221\\nvalue = [11, 210]'),\n",
       " Text(4.65, 60.400000000000006, 'X[1] <= 20292.5\\nentropy = 0.236\\nsamples = 207\\nvalue = [8, 199]'),\n",
       " Text(3.1, 36.24000000000001, 'X[5] <= 126663.5\\nentropy = 0.323\\nsamples = 136\\nvalue = [8, 128]'),\n",
       " Text(1.55, 12.079999999999984, 'entropy = 0.417\\nsamples = 95\\nvalue = [8, 87]'),\n",
       " Text(4.65, 12.079999999999984, 'entropy = 0.0\\nsamples = 41\\nvalue = [0, 41]'),\n",
       " Text(6.2, 36.24000000000001, 'entropy = 0.0\\nsamples = 71\\nvalue = [0, 71]'),\n",
       " Text(10.85, 60.400000000000006, 'X[4] <= 19757.0\\nentropy = 0.75\\nsamples = 14\\nvalue = [3, 11]'),\n",
       " Text(9.3, 36.24000000000001, 'X[1] <= 14116.0\\nentropy = 0.414\\nsamples = 12\\nvalue = [1, 11]'),\n",
       " Text(7.75, 12.079999999999984, 'entropy = 1.0\\nsamples = 2\\nvalue = [1, 1]'),\n",
       " Text(10.85, 12.079999999999984, 'entropy = 0.0\\nsamples = 10\\nvalue = [0, 10]'),\n",
       " Text(12.4, 36.24000000000001, 'entropy = 0.0\\nsamples = 2\\nvalue = [2, 0]'),\n",
       " Text(24.8, 108.72, 'X[1] <= 27752.5\\nentropy = 0.463\\nsamples = 224\\nvalue = [22, 202]'),\n",
       " Text(20.150000000000002, 84.56, 'X[0] <= 48852.5\\nentropy = 0.964\\nsamples = 18\\nvalue = [7, 11]'),\n",
       " Text(17.05, 60.400000000000006, 'X[5] <= 198651.5\\nentropy = 0.65\\nsamples = 12\\nvalue = [2, 10]'),\n",
       " Text(15.5, 36.24000000000001, 'entropy = 0.0\\nsamples = 6\\nvalue = [0, 6]'),\n",
       " Text(18.6, 36.24000000000001, 'X[5] <= 286965.0\\nentropy = 0.918\\nsamples = 6\\nvalue = [2, 4]'),\n",
       " Text(17.05, 12.079999999999984, 'entropy = 0.0\\nsamples = 2\\nvalue = [2, 0]'),\n",
       " Text(20.150000000000002, 12.079999999999984, 'entropy = 0.0\\nsamples = 4\\nvalue = [0, 4]'),\n",
       " Text(23.25, 60.400000000000006, 'X[1] <= 27172.5\\nentropy = 0.65\\nsamples = 6\\nvalue = [5, 1]'),\n",
       " Text(21.7, 36.24000000000001, 'entropy = 1.0\\nsamples = 2\\nvalue = [1, 1]'),\n",
       " Text(24.8, 36.24000000000001, 'entropy = 0.0\\nsamples = 4\\nvalue = [4, 0]'),\n",
       " Text(29.45, 84.56, 'X[0] <= 13241.5\\nentropy = 0.376\\nsamples = 206\\nvalue = [15, 191]'),\n",
       " Text(27.900000000000002, 60.400000000000006, 'entropy = 0.0\\nsamples = 42\\nvalue = [0, 42]'),\n",
       " Text(31.0, 60.400000000000006, 'X[7] <= 117931.5\\nentropy = 0.441\\nsamples = 164\\nvalue = [15, 149]'),\n",
       " Text(27.900000000000002, 36.24000000000001, 'X[1] <= 30922.5\\nentropy = 0.53\\nsamples = 108\\nvalue = [13, 95]'),\n",
       " Text(26.35, 12.079999999999984, 'entropy = 0.918\\nsamples = 15\\nvalue = [5, 10]'),\n",
       " Text(29.45, 12.079999999999984, 'entropy = 0.423\\nsamples = 93\\nvalue = [8, 85]'),\n",
       " Text(34.1, 36.24000000000001, 'X[0] <= 14361.5\\nentropy = 0.222\\nsamples = 56\\nvalue = [2, 54]'),\n",
       " Text(32.550000000000004, 12.079999999999984, 'entropy = 1.0\\nsamples = 4\\nvalue = [2, 2]'),\n",
       " Text(35.65, 12.079999999999984, 'entropy = 0.0\\nsamples = 52\\nvalue = [0, 52]'),\n",
       " Text(41.85, 132.88, 'X[3] <= 117881.0\\nentropy = 0.109\\nsamples = 277\\nvalue = [4, 273]'),\n",
       " Text(40.300000000000004, 108.72, 'entropy = 0.0\\nsamples = 118\\nvalue = [0, 118]'),\n",
       " Text(43.4, 108.72, 'X[1] <= 42797.0\\nentropy = 0.169\\nsamples = 159\\nvalue = [4, 155]'),\n",
       " Text(41.85, 84.56, 'entropy = 0.0\\nsamples = 61\\nvalue = [0, 61]'),\n",
       " Text(44.95, 84.56, 'X[1] <= 45341.0\\nentropy = 0.246\\nsamples = 98\\nvalue = [4, 94]'),\n",
       " Text(41.85, 60.400000000000006, 'X[5] <= 121913.5\\nentropy = 0.65\\nsamples = 18\\nvalue = [3, 15]'),\n",
       " Text(40.300000000000004, 36.24000000000001, 'X[1] <= 44879.5\\nentropy = 0.971\\nsamples = 5\\nvalue = [3, 2]'),\n",
       " Text(38.75, 12.079999999999984, 'entropy = 0.918\\nsamples = 3\\nvalue = [1, 2]'),\n",
       " Text(41.85, 12.079999999999984, 'entropy = 0.0\\nsamples = 2\\nvalue = [2, 0]'),\n",
       " Text(43.4, 36.24000000000001, 'entropy = 0.0\\nsamples = 13\\nvalue = [0, 13]'),\n",
       " Text(48.050000000000004, 60.400000000000006, 'X[5] <= 254220.0\\nentropy = 0.097\\nsamples = 80\\nvalue = [1, 79]'),\n",
       " Text(46.5, 36.24000000000001, 'entropy = 0.0\\nsamples = 68\\nvalue = [0, 68]'),\n",
       " Text(49.6, 36.24000000000001, 'X[5] <= 266168.0\\nentropy = 0.414\\nsamples = 12\\nvalue = [1, 11]'),\n",
       " Text(48.050000000000004, 12.079999999999984, 'entropy = 1.0\\nsamples = 2\\nvalue = [1, 1]'),\n",
       " Text(51.15, 12.079999999999984, 'entropy = 0.0\\nsamples = 10\\nvalue = [0, 10]'),\n",
       " Text(74.884375, 157.04, 'X[5] <= 61276.0\\nentropy = 0.547\\nsamples = 2067\\nvalue = [261, 1806]'),\n",
       " Text(62.775, 132.88, 'X[0] <= 26999.0\\nentropy = 0.997\\nsamples = 15\\nvalue = [8, 7]'),\n",
       " Text(61.225, 108.72, 'entropy = 0.0\\nsamples = 7\\nvalue = [0, 7]'),\n",
       " Text(64.325, 108.72, 'entropy = 0.0\\nsamples = 8\\nvalue = [8, 0]'),\n",
       " Text(86.99375, 132.88, 'X[3] <= 120404.0\\nentropy = 0.539\\nsamples = 2052\\nvalue = [253, 1799]'),\n",
       " Text(67.425, 108.72, 'X[4] <= 13223.0\\nentropy = 0.509\\nsamples = 1830\\nvalue = [207, 1623]'),\n",
       " Text(57.35, 84.56, 'X[2] <= 121893.0\\nentropy = 0.208\\nsamples = 305\\nvalue = [10, 295]'),\n",
       " Text(54.25, 60.400000000000006, 'X[4] <= 3901.5\\nentropy = 0.339\\nsamples = 143\\nvalue = [9, 134]'),\n",
       " Text(52.7, 36.24000000000001, 'entropy = 0.0\\nsamples = 54\\nvalue = [0, 54]'),\n",
       " Text(55.800000000000004, 36.24000000000001, 'X[7] <= 118364.5\\nentropy = 0.473\\nsamples = 89\\nvalue = [9, 80]'),\n",
       " Text(54.25, 12.079999999999984, 'entropy = 0.286\\nsamples = 60\\nvalue = [3, 57]'),\n",
       " Text(57.35, 12.079999999999984, 'entropy = 0.736\\nsamples = 29\\nvalue = [6, 23]'),\n",
       " Text(60.45, 60.400000000000006, 'X[0] <= 51880.0\\nentropy = 0.054\\nsamples = 162\\nvalue = [1, 161]'),\n",
       " Text(58.9, 36.24000000000001, 'entropy = 0.0\\nsamples = 150\\nvalue = [0, 150]'),\n",
       " Text(62.0, 36.24000000000001, 'X[3] <= 118770.5\\nentropy = 0.414\\nsamples = 12\\nvalue = [1, 11]'),\n",
       " Text(60.45, 12.079999999999984, 'entropy = 0.0\\nsamples = 10\\nvalue = [0, 10]'),\n",
       " Text(63.550000000000004, 12.079999999999984, 'entropy = 1.0\\nsamples = 2\\nvalue = [1, 1]'),\n",
       " Text(77.5, 84.56, 'X[5] <= 284166.0\\nentropy = 0.555\\nsamples = 1525\\nvalue = [197, 1328]'),\n",
       " Text(71.3, 60.400000000000006, 'X[7] <= 118082.5\\nentropy = 0.582\\nsamples = 1344\\nvalue = [187, 1157]'),\n",
       " Text(68.2, 36.24000000000001, 'X[1] <= 56200.5\\nentropy = 0.688\\nsamples = 485\\nvalue = [89, 396]'),\n",
       " Text(66.65, 12.079999999999984, 'entropy = 0.75\\nsamples = 396\\nvalue = [85, 311]'),\n",
       " Text(69.75, 12.079999999999984, 'entropy = 0.265\\nsamples = 89\\nvalue = [4, 85]'),\n",
       " Text(74.4, 36.24000000000001, 'X[0] <= 23528.5\\nentropy = 0.512\\nsamples = 859\\nvalue = [98, 761]'),\n",
       " Text(72.85000000000001, 12.079999999999984, 'entropy = 0.376\\nsamples = 399\\nvalue = [29, 370]'),\n",
       " Text(75.95, 12.079999999999984, 'entropy = 0.61\\nsamples = 460\\nvalue = [69, 391]'),\n",
       " Text(83.7, 60.400000000000006, 'X[6] <= 117968.0\\nentropy = 0.308\\nsamples = 181\\nvalue = [10, 171]'),\n",
       " Text(80.60000000000001, 36.24000000000001, 'X[1] <= 38994.0\\nentropy = 0.693\\nsamples = 43\\nvalue = [8, 35]'),\n",
       " Text(79.05, 12.079999999999984, 'entropy = 0.824\\nsamples = 31\\nvalue = [8, 23]'),\n",
       " Text(82.15, 12.079999999999984, 'entropy = 0.0\\nsamples = 12\\nvalue = [0, 12]'),\n",
       " Text(86.8, 36.24000000000001, 'X[8] <= 128509.5\\nentropy = 0.109\\nsamples = 138\\nvalue = [2, 136]'),\n",
       " Text(85.25, 12.079999999999984, 'entropy = 0.064\\nsamples = 132\\nvalue = [1, 131]'),\n",
       " Text(88.35000000000001, 12.079999999999984, 'entropy = 0.65\\nsamples = 6\\nvalue = [1, 5]'),\n",
       " Text(106.5625, 108.72, 'X[3] <= 120692.5\\nentropy = 0.736\\nsamples = 222\\nvalue = [46, 176]'),\n",
       " Text(96.875, 84.56, 'X[5] <= 211252.5\\nentropy = 0.946\\nsamples = 66\\nvalue = [24, 42]'),\n",
       " Text(91.45, 60.400000000000006, 'X[5] <= 129900.5\\nentropy = 0.976\\nsamples = 22\\nvalue = [13, 9]'),\n",
       " Text(89.9, 36.24000000000001, 'entropy = 0.0\\nsamples = 3\\nvalue = [0, 3]'),\n",
       " Text(93.0, 36.24000000000001, 'X[1] <= 16433.5\\nentropy = 0.9\\nsamples = 19\\nvalue = [13, 6]'),\n",
       " Text(91.45, 12.079999999999984, 'entropy = 0.0\\nsamples = 2\\nvalue = [0, 2]'),\n",
       " Text(94.55, 12.079999999999984, 'entropy = 0.787\\nsamples = 17\\nvalue = [13, 4]'),\n",
       " Text(102.3, 60.400000000000006, 'X[3] <= 120413.5\\nentropy = 0.811\\nsamples = 44\\nvalue = [11, 33]'),\n",
       " Text(99.2, 36.24000000000001, 'X[1] <= 79513.0\\nentropy = 0.951\\nsamples = 27\\nvalue = [10, 17]'),\n",
       " Text(97.65, 12.079999999999984, 'entropy = 0.994\\nsamples = 22\\nvalue = [10, 12]'),\n",
       " Text(100.75, 12.079999999999984, 'entropy = 0.0\\nsamples = 5\\nvalue = [0, 5]'),\n",
       " Text(105.4, 36.24000000000001, 'X[8] <= 120474.0\\nentropy = 0.323\\nsamples = 17\\nvalue = [1, 16]'),\n",
       " Text(103.85000000000001, 12.079999999999984, 'entropy = 0.918\\nsamples = 3\\nvalue = [1, 2]'),\n",
       " Text(106.95, 12.079999999999984, 'entropy = 0.0\\nsamples = 14\\nvalue = [0, 14]'),\n",
       " Text(116.25, 84.56, 'X[7] <= 118782.5\\nentropy = 0.587\\nsamples = 156\\nvalue = [22, 134]'),\n",
       " Text(113.15, 60.400000000000006, 'X[8] <= 121934.0\\nentropy = 0.393\\nsamples = 129\\nvalue = [10, 119]'),\n",
       " Text(111.60000000000001, 36.24000000000001, 'X[6] <= 117931.5\\nentropy = 0.511\\nsamples = 88\\nvalue = [10, 78]'),\n",
       " Text(110.05, 12.079999999999984, 'entropy = 0.0\\nsamples = 2\\nvalue = [2, 0]'),\n",
       " Text(113.15, 12.079999999999984, 'entropy = 0.446\\nsamples = 86\\nvalue = [8, 78]'),\n",
       " Text(114.7, 36.24000000000001, 'entropy = 0.0\\nsamples = 41\\nvalue = [0, 41]'),\n",
       " Text(119.35000000000001, 60.400000000000006, 'X[7] <= 119041.0\\nentropy = 0.991\\nsamples = 27\\nvalue = [12, 15]'),\n",
       " Text(117.8, 36.24000000000001, 'entropy = 0.0\\nsamples = 3\\nvalue = [3, 0]'),\n",
       " Text(120.9, 36.24000000000001, 'X[3] <= 136803.0\\nentropy = 0.954\\nsamples = 24\\nvalue = [9, 15]'),\n",
       " Text(119.35000000000001, 12.079999999999984, 'entropy = 0.0\\nsamples = 4\\nvalue = [0, 4]'),\n",
       " Text(122.45, 12.079999999999984, 'entropy = 0.993\\nsamples = 20\\nvalue = [9, 11]'),\n",
       " Text(212.05937500000002, 181.2, 'X[4] <= 262441.5\\nentropy = 0.298\\nsamples = 23310\\nvalue = [1228, 22082]'),\n",
       " Text(157.80937500000002, 157.04, 'X[0] <= 1722.0\\nentropy = 0.248\\nsamples = 11899\\nvalue = [491, 11408]'),\n",
       " Text(140.275, 132.88, 'X[5] <= 255208.5\\nentropy = 0.115\\nsamples = 844\\nvalue = [13, 831]'),\n",
       " Text(133.3, 108.72, 'X[3] <= 119375.0\\nentropy = 0.069\\nsamples = 721\\nvalue = [6, 715]'),\n",
       " Text(131.75, 84.56, 'X[5] <= 130272.5\\nentropy = 0.108\\nsamples = 422\\nvalue = [6, 416]'),\n",
       " Text(130.20000000000002, 60.400000000000006, 'X[7] <= 118335.0\\nentropy = 0.155\\nsamples = 268\\nvalue = [6, 262]'),\n",
       " Text(127.10000000000001, 36.24000000000001, 'X[5] <= 120972.0\\nentropy = 0.098\\nsamples = 236\\nvalue = [3, 233]'),\n",
       " Text(125.55, 12.079999999999984, 'entropy = 0.211\\nsamples = 90\\nvalue = [3, 87]'),\n",
       " Text(128.65, 12.079999999999984, 'entropy = 0.0\\nsamples = 146\\nvalue = [0, 146]'),\n",
       " Text(133.3, 36.24000000000001, 'X[1] <= 23542.5\\nentropy = 0.449\\nsamples = 32\\nvalue = [3, 29]'),\n",
       " Text(131.75, 12.079999999999984, 'entropy = 0.918\\nsamples = 6\\nvalue = [2, 4]'),\n",
       " Text(134.85, 12.079999999999984, 'entropy = 0.235\\nsamples = 26\\nvalue = [1, 25]'),\n",
       " Text(133.3, 60.400000000000006, 'entropy = 0.0\\nsamples = 154\\nvalue = [0, 154]'),\n",
       " Text(134.85, 84.56, 'entropy = 0.0\\nsamples = 299\\nvalue = [0, 299]'),\n",
       " Text(147.25, 108.72, 'X[0] <= 813.5\\nentropy = 0.315\\nsamples = 123\\nvalue = [7, 116]'),\n",
       " Text(141.05, 84.56, 'X[1] <= 29707.0\\nentropy = 0.811\\nsamples = 12\\nvalue = [3, 9]'),\n",
       " Text(139.5, 60.400000000000006, 'entropy = 0.0\\nsamples = 4\\nvalue = [0, 4]'),\n",
       " Text(142.6, 60.400000000000006, 'X[1] <= 59722.5\\nentropy = 0.954\\nsamples = 8\\nvalue = [3, 5]'),\n",
       " Text(139.5, 36.24000000000001, 'X[1] <= 38292.5\\nentropy = 0.811\\nsamples = 4\\nvalue = [1, 3]'),\n",
       " Text(137.95000000000002, 12.079999999999984, 'entropy = 1.0\\nsamples = 2\\nvalue = [1, 1]'),\n",
       " Text(141.05, 12.079999999999984, 'entropy = 0.0\\nsamples = 2\\nvalue = [0, 2]'),\n",
       " Text(145.70000000000002, 36.24000000000001, 'X[1] <= 97772.5\\nentropy = 1.0\\nsamples = 4\\nvalue = [2, 2]'),\n",
       " Text(144.15, 12.079999999999984, 'entropy = 1.0\\nsamples = 2\\nvalue = [1, 1]'),\n",
       " Text(147.25, 12.079999999999984, 'entropy = 1.0\\nsamples = 2\\nvalue = [1, 1]'),\n",
       " Text(153.45000000000002, 84.56, 'X[0] <= 1116.0\\nentropy = 0.224\\nsamples = 111\\nvalue = [4, 107]'),\n",
       " Text(151.9, 60.400000000000006, 'entropy = 0.0\\nsamples = 46\\nvalue = [0, 46]'),\n",
       " Text(155.0, 60.400000000000006, 'X[0] <= 1248.0\\nentropy = 0.334\\nsamples = 65\\nvalue = [4, 61]'),\n",
       " Text(151.9, 36.24000000000001, 'X[1] <= 31993.0\\nentropy = 0.684\\nsamples = 11\\nvalue = [2, 9]'),\n",
       " Text(150.35, 12.079999999999984, 'entropy = 0.0\\nsamples = 4\\nvalue = [0, 4]'),\n",
       " Text(153.45000000000002, 12.079999999999984, 'entropy = 0.863\\nsamples = 7\\nvalue = [2, 5]'),\n",
       " Text(158.1, 36.24000000000001, 'X[5] <= 305728.0\\nentropy = 0.229\\nsamples = 54\\nvalue = [2, 52]'),\n",
       " Text(156.55, 12.079999999999984, 'entropy = 0.0\\nsamples = 26\\nvalue = [0, 26]'),\n",
       " Text(159.65, 12.079999999999984, 'entropy = 0.371\\nsamples = 28\\nvalue = [2, 26]'),\n",
       " Text(175.34375, 132.88, 'X[0] <= 1727.5\\nentropy = 0.257\\nsamples = 11055\\nvalue = [478, 10577]'),\n",
       " Text(168.175, 108.72, 'X[1] <= 17405.0\\nentropy = 0.722\\nsamples = 10\\nvalue = [8, 2]'),\n",
       " Text(166.625, 84.56, 'entropy = 0.0\\nsamples = 2\\nvalue = [0, 2]'),\n",
       " Text(169.725, 84.56, 'entropy = 0.0\\nsamples = 8\\nvalue = [8, 0]'),\n",
       " Text(182.51250000000002, 108.72, 'X[6] <= 117924.0\\nentropy = 0.254\\nsamples = 11045\\nvalue = [470, 10575]'),\n",
       " Text(172.82500000000002, 84.56, 'X[2] <= 128311.5\\nentropy = 0.125\\nsamples = 880\\nvalue = [15, 865]'),\n",
       " Text(167.4, 60.400000000000006, 'X[1] <= 24003.0\\nentropy = 0.09\\nsamples = 787\\nvalue = [9, 778]'),\n",
       " Text(164.3, 36.24000000000001, 'X[1] <= 20630.5\\nentropy = 0.18\\nsamples = 221\\nvalue = [6, 215]'),\n",
       " Text(162.75, 12.079999999999984, 'entropy = 0.114\\nsamples = 197\\nvalue = [3, 194]'),\n",
       " Text(165.85, 12.079999999999984, 'entropy = 0.544\\nsamples = 24\\nvalue = [3, 21]'),\n",
       " Text(170.5, 36.24000000000001, 'X[2] <= 118042.5\\nentropy = 0.048\\nsamples = 566\\nvalue = [3, 563]'),\n",
       " Text(168.95000000000002, 12.079999999999984, 'entropy = 0.144\\nsamples = 147\\nvalue = [3, 144]'),\n",
       " Text(172.05, 12.079999999999984, 'entropy = 0.0\\nsamples = 419\\nvalue = [0, 419]'),\n",
       " Text(178.25, 60.400000000000006, 'X[3] <= 118220.5\\nentropy = 0.345\\nsamples = 93\\nvalue = [6, 87]'),\n",
       " Text(176.70000000000002, 36.24000000000001, 'X[8] <= 131795.0\\nentropy = 0.61\\nsamples = 40\\nvalue = [6, 34]'),\n",
       " Text(175.15, 12.079999999999984, 'entropy = 0.937\\nsamples = 17\\nvalue = [6, 11]'),\n",
       " Text(178.25, 12.079999999999984, 'entropy = 0.0\\nsamples = 23\\nvalue = [0, 23]'),\n",
       " Text(179.8, 36.24000000000001, 'entropy = 0.0\\nsamples = 53\\nvalue = [0, 53]'),\n",
       " Text(192.20000000000002, 84.56, 'X[7] <= 118295.5\\nentropy = 0.264\\nsamples = 10165\\nvalue = [455, 9710]'),\n",
       " Text(186.0, 60.400000000000006, 'X[5] <= 118369.5\\nentropy = 0.319\\nsamples = 3379\\nvalue = [196, 3183]'),\n",
       " Text(182.9, 36.24000000000001, 'X[7] <= 74468.5\\nentropy = 0.16\\nsamples = 641\\nvalue = [15, 626]'),\n",
       " Text(181.35, 12.079999999999984, 'entropy = 0.881\\nsamples = 10\\nvalue = [3, 7]'),\n",
       " Text(184.45000000000002, 12.079999999999984, 'entropy = 0.136\\nsamples = 631\\nvalue = [12, 619]'),\n",
       " Text(189.1, 36.24000000000001, 'X[6] <= 117939.0\\nentropy = 0.351\\nsamples = 2738\\nvalue = [181, 2557]'),\n",
       " Text(187.55, 12.079999999999984, 'entropy = 0.866\\nsamples = 66\\nvalue = [19, 47]'),\n",
       " Text(190.65, 12.079999999999984, 'entropy = 0.33\\nsamples = 2672\\nvalue = [162, 2510]'),\n",
       " Text(198.4, 60.400000000000006, 'X[2] <= 118412.0\\nentropy = 0.234\\nsamples = 6786\\nvalue = [259, 6527]'),\n",
       " Text(195.3, 36.24000000000001, 'X[5] <= 160011.5\\nentropy = 0.368\\nsamples = 1319\\nvalue = [93, 1226]'),\n",
       " Text(193.75, 12.079999999999984, 'entropy = 0.23\\nsamples = 777\\nvalue = [29, 748]'),\n",
       " Text(196.85, 12.079999999999984, 'entropy = 0.524\\nsamples = 542\\nvalue = [64, 478]'),\n",
       " Text(201.5, 36.24000000000001, 'X[4] <= 118250.0\\nentropy = 0.196\\nsamples = 5467\\nvalue = [166, 5301]'),\n",
       " Text(199.95000000000002, 12.079999999999984, 'entropy = 0.424\\nsamples = 197\\nvalue = [17, 180]'),\n",
       " Text(203.05, 12.079999999999984, 'entropy = 0.186\\nsamples = 5270\\nvalue = [149, 5121]'),\n",
       " Text(266.309375, 157.04, 'X[8] <= 117925.5\\nentropy = 0.345\\nsamples = 11411\\nvalue = [737, 10674]'),\n",
       " Text(237.5375, 132.88, 'X[7] <= 120604.0\\nentropy = 0.22\\nsamples = 2841\\nvalue = [100, 2741]'),\n",
       " Text(223.975, 108.72, 'X[7] <= 118364.5\\nentropy = 0.192\\nsamples = 2784\\nvalue = [82, 2702]'),\n",
       " Text(213.125, 84.56, 'X[3] <= 118491.0\\nentropy = 0.15\\nsamples = 2092\\nvalue = [45, 2047]'),\n",
       " Text(209.25, 60.400000000000006, 'X[0] <= 47603.0\\nentropy = 0.268\\nsamples = 503\\nvalue = [23, 480]'),\n",
       " Text(207.70000000000002, 36.24000000000001, 'X[0] <= 46590.0\\nentropy = 0.303\\nsamples = 426\\nvalue = [23, 403]'),\n",
       " Text(206.15, 12.079999999999984, 'entropy = 0.255\\nsamples = 420\\nvalue = [18, 402]'),\n",
       " Text(209.25, 12.079999999999984, 'entropy = 0.65\\nsamples = 6\\nvalue = [5, 1]'),\n",
       " Text(210.8, 36.24000000000001, 'entropy = 0.0\\nsamples = 77\\nvalue = [0, 77]'),\n",
       " Text(217.0, 60.400000000000006, 'X[5] <= 287488.5\\nentropy = 0.105\\nsamples = 1589\\nvalue = [22, 1567]'),\n",
       " Text(213.9, 36.24000000000001, 'X[1] <= 16307.5\\nentropy = 0.095\\nsamples = 1560\\nvalue = [19, 1541]'),\n",
       " Text(212.35, 12.079999999999984, 'entropy = 0.0\\nsamples = 357\\nvalue = [0, 357]'),\n",
       " Text(215.45000000000002, 12.079999999999984, 'entropy = 0.117\\nsamples = 1203\\nvalue = [19, 1184]'),\n",
       " Text(220.1, 36.24000000000001, 'X[0] <= 3215.0\\nentropy = 0.48\\nsamples = 29\\nvalue = [3, 26]'),\n",
       " Text(218.55, 12.079999999999984, 'entropy = 1.0\\nsamples = 6\\nvalue = [3, 3]'),\n",
       " Text(221.65, 12.079999999999984, 'entropy = 0.0\\nsamples = 23\\nvalue = [0, 23]'),\n",
       " Text(234.82500000000002, 84.56, 'X[0] <= 69849.5\\nentropy = 0.301\\nsamples = 692\\nvalue = [37, 655]'),\n",
       " Text(229.4, 60.400000000000006, 'X[0] <= 4941.5\\nentropy = 0.211\\nsamples = 569\\nvalue = [19, 550]'),\n",
       " Text(226.3, 36.24000000000001, 'X[0] <= 2480.5\\nentropy = 0.354\\nsamples = 239\\nvalue = [16, 223]'),\n",
       " Text(224.75, 12.079999999999984, 'entropy = 0.077\\nsamples = 106\\nvalue = [1, 105]'),\n",
       " Text(227.85, 12.079999999999984, 'entropy = 0.508\\nsamples = 133\\nvalue = [15, 118]'),\n",
       " Text(232.5, 36.24000000000001, 'X[1] <= 39293.5\\nentropy = 0.075\\nsamples = 330\\nvalue = [3, 327]'),\n",
       " Text(230.95000000000002, 12.079999999999984, 'entropy = 0.119\\nsamples = 187\\nvalue = [3, 184]'),\n",
       " Text(234.05, 12.079999999999984, 'entropy = 0.0\\nsamples = 143\\nvalue = [0, 143]'),\n",
       " Text(240.25, 60.400000000000006, 'X[0] <= 72122.0\\nentropy = 0.601\\nsamples = 123\\nvalue = [18, 105]'),\n",
       " Text(238.70000000000002, 36.24000000000001, 'X[3] <= 118634.0\\nentropy = 0.912\\nsamples = 55\\nvalue = [18, 37]'),\n",
       " Text(237.15, 12.079999999999984, 'entropy = 0.0\\nsamples = 17\\nvalue = [0, 17]'),\n",
       " Text(240.25, 12.079999999999984, 'entropy = 0.998\\nsamples = 38\\nvalue = [18, 20]'),\n",
       " Text(241.8, 36.24000000000001, 'entropy = 0.0\\nsamples = 68\\nvalue = [0, 68]'),\n",
       " Text(251.1, 108.72, 'X[6] <= 121324.5\\nentropy = 0.9\\nsamples = 57\\nvalue = [18, 39]'),\n",
       " Text(249.55, 84.56, 'X[0] <= 12727.0\\nentropy = 0.918\\nsamples = 27\\nvalue = [18, 9]'),\n",
       " Text(246.45000000000002, 60.400000000000006, 'X[3] <= 119408.0\\nentropy = 0.702\\nsamples = 21\\nvalue = [17, 4]'),\n",
       " Text(244.9, 36.24000000000001, 'entropy = 0.0\\nsamples = 2\\nvalue = [0, 2]'),\n",
       " Text(248.0, 36.24000000000001, 'X[1] <= 81621.0\\nentropy = 0.485\\nsamples = 19\\nvalue = [17, 2]'),\n",
       " Text(246.45000000000002, 12.079999999999984, 'entropy = 0.323\\nsamples = 17\\nvalue = [16, 1]'),\n",
       " Text(249.55, 12.079999999999984, 'entropy = 1.0\\nsamples = 2\\nvalue = [1, 1]'),\n",
       " Text(252.65, 60.400000000000006, 'X[1] <= 36494.5\\nentropy = 0.65\\nsamples = 6\\nvalue = [1, 5]'),\n",
       " Text(251.1, 36.24000000000001, 'entropy = 1.0\\nsamples = 2\\nvalue = [1, 1]'),\n",
       " Text(254.20000000000002, 36.24000000000001, 'entropy = 0.0\\nsamples = 4\\nvalue = [0, 4]'),\n",
       " Text(252.65, 84.56, 'entropy = 0.0\\nsamples = 30\\nvalue = [0, 30]'),\n",
       " Text(295.08125, 132.88, 'X[7] <= 118274.0\\nentropy = 0.382\\nsamples = 8570\\nvalue = [637, 7933]'),\n",
       " Text(275.125, 108.72, 'X[6] <= 118215.5\\nentropy = 0.485\\nsamples = 2618\\nvalue = [275, 2343]'),\n",
       " Text(266.6, 84.56, 'X[7] <= 118174.0\\nentropy = 0.429\\nsamples = 2358\\nvalue = [207, 2151]'),\n",
       " Text(260.40000000000003, 60.400000000000006, 'X[7] <= 118046.5\\nentropy = 0.498\\nsamples = 1563\\nvalue = [171, 1392]'),\n",
       " Text(257.3, 36.24000000000001, 'X[0] <= 24217.5\\nentropy = 0.338\\nsamples = 876\\nvalue = [55, 821]'),\n",
       " Text(255.75, 12.079999999999984, 'entropy = 0.421\\nsamples = 608\\nvalue = [52, 556]'),\n",
       " Text(258.85, 12.079999999999984, 'entropy = 0.089\\nsamples = 268\\nvalue = [3, 265]'),\n",
       " Text(263.5, 36.24000000000001, 'X[4] <= 280703.5\\nentropy = 0.655\\nsamples = 687\\nvalue = [116, 571]'),\n",
       " Text(261.95, 12.079999999999984, 'entropy = 0.072\\nsamples = 116\\nvalue = [1, 115]'),\n",
       " Text(265.05, 12.079999999999984, 'entropy = 0.725\\nsamples = 571\\nvalue = [115, 456]'),\n",
       " Text(272.8, 60.400000000000006, 'X[4] <= 280703.5\\nentropy = 0.266\\nsamples = 795\\nvalue = [36, 759]'),\n",
       " Text(269.7, 36.24000000000001, 'X[5] <= 127472.0\\nentropy = 0.747\\nsamples = 61\\nvalue = [13, 48]'),\n",
       " Text(268.15000000000003, 12.079999999999984, 'entropy = 0.971\\nsamples = 20\\nvalue = [12, 8]'),\n",
       " Text(271.25, 12.079999999999984, 'entropy = 0.165\\nsamples = 41\\nvalue = [1, 40]'),\n",
       " Text(275.90000000000003, 36.24000000000001, 'X[0] <= 7171.0\\nentropy = 0.201\\nsamples = 734\\nvalue = [23, 711]'),\n",
       " Text(274.35, 12.079999999999984, 'entropy = 0.292\\nsamples = 370\\nvalue = [19, 351]'),\n",
       " Text(277.45, 12.079999999999984, 'entropy = 0.087\\nsamples = 364\\nvalue = [4, 360]'),\n",
       " Text(283.65000000000003, 84.56, 'X[5] <= 283447.0\\nentropy = 0.829\\nsamples = 260\\nvalue = [68, 192]'),\n",
       " Text(280.55, 60.400000000000006, 'X[5] <= 118407.5\\nentropy = 0.753\\nsamples = 227\\nvalue = [49, 178]'),\n",
       " Text(279.0, 36.24000000000001, 'entropy = 0.0\\nsamples = 24\\nvalue = [0, 24]'),\n",
       " Text(282.1, 36.24000000000001, 'X[8] <= 192928.5\\nentropy = 0.797\\nsamples = 203\\nvalue = [49, 154]'),\n",
       " Text(280.55, 12.079999999999984, 'entropy = 0.892\\nsamples = 136\\nvalue = [42, 94]'),\n",
       " Text(283.65000000000003, 12.079999999999984, 'entropy = 0.483\\nsamples = 67\\nvalue = [7, 60]'),\n",
       " Text(286.75, 60.400000000000006, 'X[1] <= 26654.0\\nentropy = 0.983\\nsamples = 33\\nvalue = [19, 14]'),\n",
       " Text(285.2, 36.24000000000001, 'entropy = 0.0\\nsamples = 10\\nvalue = [10, 0]'),\n",
       " Text(288.3, 36.24000000000001, 'X[1] <= 39118.0\\nentropy = 0.966\\nsamples = 23\\nvalue = [9, 14]'),\n",
       " Text(286.75, 12.079999999999984, 'entropy = 0.353\\nsamples = 15\\nvalue = [1, 14]'),\n",
       " Text(289.85, 12.079999999999984, 'entropy = 0.0\\nsamples = 8\\nvalue = [8, 0]'),\n",
       " Text(315.0375, 108.72, 'X[5] <= 121992.0\\nentropy = 0.331\\nsamples = 5952\\nvalue = [362, 5590]'),\n",
       " Text(303.8, 84.56, 'X[5] <= 121453.0\\nentropy = 0.376\\nsamples = 3406\\nvalue = [248, 3158]'),\n",
       " Text(297.6, 60.400000000000006, 'X[5] <= 117994.5\\nentropy = 0.357\\nsamples = 3254\\nvalue = [220, 3034]'),\n",
       " Text(294.5, 36.24000000000001, 'X[2] <= 118554.0\\nentropy = 0.394\\nsamples = 2408\\nvalue = [187, 2221]'),\n",
       " Text(292.95, 12.079999999999984, 'entropy = 0.426\\nsamples = 1988\\nvalue = [173, 1815]'),\n",
       " Text(296.05, 12.079999999999984, 'entropy = 0.211\\nsamples = 420\\nvalue = [14, 406]'),\n",
       " Text(300.7, 36.24000000000001, 'X[0] <= 70930.5\\nentropy = 0.238\\nsamples = 846\\nvalue = [33, 813]'),\n",
       " Text(299.15000000000003, 12.079999999999984, 'entropy = 0.185\\nsamples = 816\\nvalue = [23, 793]'),\n",
       " Text(302.25, 12.079999999999984, 'entropy = 0.918\\nsamples = 30\\nvalue = [10, 20]'),\n",
       " Text(310.0, 60.400000000000006, 'X[6] <= 118688.5\\nentropy = 0.689\\nsamples = 152\\nvalue = [28, 124]'),\n",
       " Text(306.90000000000003, 36.24000000000001, 'X[0] <= 5914.0\\nentropy = 0.573\\nsamples = 140\\nvalue = [19, 121]'),\n",
       " Text(305.35, 12.079999999999984, 'entropy = 0.0\\nsamples = 26\\nvalue = [0, 26]'),\n",
       " Text(308.45, 12.079999999999984, 'entropy = 0.65\\nsamples = 114\\nvalue = [19, 95]'),\n",
       " Text(313.1, 36.24000000000001, 'X[1] <= 22710.0\\nentropy = 0.811\\nsamples = 12\\nvalue = [9, 3]'),\n",
       " Text(311.55, 12.079999999999984, 'entropy = 0.0\\nsamples = 3\\nvalue = [3, 0]'),\n",
       " Text(314.65000000000003, 12.079999999999984, 'entropy = 0.918\\nsamples = 9\\nvalue = [6, 3]'),\n",
       " Text(326.27500000000003, 84.56, 'X[4] <= 291857.0\\nentropy = 0.264\\nsamples = 2546\\nvalue = [114, 2432]'),\n",
       " Text(322.40000000000003, 60.400000000000006, 'X[5] <= 291822.5\\nentropy = 0.135\\nsamples = 1438\\nvalue = [27, 1411]'),\n",
       " Text(319.3, 36.24000000000001, 'X[0] <= 1876.0\\nentropy = 0.127\\nsamples = 1430\\nvalue = [25, 1405]'),\n",
       " Text(317.75, 12.079999999999984, 'entropy = 0.262\\nsamples = 158\\nvalue = [7, 151]'),\n",
       " Text(320.85, 12.079999999999984, 'entropy = 0.107\\nsamples = 1272\\nvalue = [18, 1254]'),\n",
       " Text(325.5, 36.24000000000001, 'X[7] <= 118364.5\\nentropy = 0.811\\nsamples = 8\\nvalue = [2, 6]'),\n",
       " Text(323.95, 12.079999999999984, 'entropy = 0.0\\nsamples = 2\\nvalue = [2, 0]'),\n",
       " Text(327.05, 12.079999999999984, 'entropy = 0.0\\nsamples = 6\\nvalue = [0, 6]'),\n",
       " Text(330.15000000000003, 60.400000000000006, 'X[1] <= 771.0\\nentropy = 0.397\\nsamples = 1108\\nvalue = [87, 1021]'),\n",
       " Text(328.6, 36.24000000000001, 'entropy = 0.0\\nsamples = 2\\nvalue = [2, 0]'),\n",
       " Text(331.7, 36.24000000000001, 'X[3] <= 118892.5\\nentropy = 0.391\\nsamples = 1106\\nvalue = [85, 1021]'),\n",
       " Text(330.15000000000003, 12.079999999999984, 'entropy = 0.467\\nsamples = 584\\nvalue = [58, 526]'),\n",
       " Text(333.25, 12.079999999999984, 'entropy = 0.294\\nsamples = 522\\nvalue = [27, 495]')]"
      ]
     },
     "execution_count": 39,
     "metadata": {},
     "output_type": "execute_result"
    },
    {
     "data": {
      "image/png": "[encoded data removed]",
      "text/plain": [
       "<Figure size 432x288 with 1 Axes>"
      ]
     },
     "metadata": {
      "needs_background": "light"
     },
     "output_type": "display_data"
    }
   ],
   "source": [
    "from sklearn import tree\n",
    "tree.plot_tree(model.fit(X_train, Y_train)) # вывод дерева\n",
    "tree.plot_tree(model2.fit(X_train, Y_train)) # вывод дерева"
   ]
  },
  {
   "cell_type": "raw",
   "metadata": {},
   "source": [
    "Матрица ошибок (confusion matrix) — это способ разбить объекты на четыре категории в зависимости от комбинации истинного ответа и ответа алгоритма.\n",
    "\n",
    "Основные термины:\n",
    "TP — истино-положительное решение;\n",
    "TN — истино-отрицательное решение;\n",
    "FP — ложно-положительное решение (Ошибка первого рода);\n",
    "FN — ложно-отрицательное решение (Ошибка второго рода).\n"
   ]
  },
  {
   "cell_type": "markdown",
   "metadata": {},
   "source": [
    "\\begin{equation*}\n",
    "\\frac{TP+TN}{{P + N}} =\\frac{TP+TN}{{TP + TN +FP +FN}}\n",
    "\\end{equation*}"
   ]
  },
  {
   "cell_type": "raw",
   "metadata": {},
   "source": [
    "Данная мeтрика имеет существенный недостаток — её значение необходимо оценивать в контексте баланса классов. Это означает, что доля положительных ответов сама по себе не несет никакой информации о качестве работы алгоритма a(x), и вместе с ней следует анализировать соотношение классов в выборке."
   ]
  },
  {
   "cell_type": "raw",
   "metadata": {},
   "source": [
    "Гораздо более информативными критериями являются точность (precision) и полнота (recall).\n",
    "\n",
    "Точность показывает, какая доля объектов, выделенных классификатором как положительные, действительно является положительными:"
   ]
  },
  {
   "cell_type": "markdown",
   "metadata": {},
   "source": [
    "\\begin{equation*}\n",
    "Precision =\\frac{TP}{{TP + FP}}\n",
    "\\end{equation*}"
   ]
  },
  {
   "cell_type": "raw",
   "metadata": {},
   "source": [
    "Полнота показывает, какая часть положительных объектов была выделена классификатором"
   ]
  },
  {
   "cell_type": "markdown",
   "metadata": {},
   "source": [
    "\\begin{equation*}\n",
    "Recall =\\frac{TP}{{TP + FN}}\n",
    "\\end{equation*}"
   ]
  },
  {
   "cell_type": "markdown",
   "metadata": {},
   "source": [
    "#### Random Forest Classifier"
   ]
  },
  {
   "cell_type": "raw",
   "metadata": {},
   "source": [
    "Random forest (с англ. — «случайный лес») — алгоритм машинного обучения, предложенный Лео Брейманом и Адель Катлер, заключающийся в использовании комитета (ансамбля) решающих деревьев. Алгоритм сочетает в себе две основные идеи: метод бэггинга Бреймана, и метод случайных подпространств, предложенный Tin Kam Ho. Алгоритм применяется для задач классификации, регрессии и кластеризации. Основная идея заключается в использовании большого ансамбля решающих деревьев, каждое из которых само по себе даёт очень невысокое качество классификации, но за счёт их большого количества результат получается хорошим."
   ]
  },
  {
   "cell_type": "raw",
   "metadata": {},
   "source": [
    "Рассмотрим параметры метода случайных деревьев: \n",
    "n_estimators - число деревьев =600\n",
    "max_depth - макисмальная глубина дерева = 12\n",
    "random_state - генератор рандомных чисел, которые используются при построении модели и влияют на ее веса = 4\n",
    "oob_score - Следует ли использовать готовые образцы для оценки ошибки обобщения\n",
    "n_jobs - по умолчанию стоит 1, но для распределения по ядрам устанавливаем -1\n",
    "Остальные основные критерии, установленные по умолчанию:\n",
    "criterion - критерий распределения = gini - метрика качества, которая часто используется при оценке предсказательных моделей в задачах бинарной классификации в условиях сильной несбалансированности классов целевой переменной\n",
    "min_samples_split - минимальное количество выборок, необходимое для разделения внутреннего узла = 2\n",
    "min_samples_leaf - минимальное число листьев в дереве = 1\n",
    "max_features - Количество функций, которые следует учитывать при поиске лучшего разделения = auto"
   ]
  },
  {
   "cell_type": "code",
   "execution_count": 62,
   "metadata": {},
   "outputs": [
    {
     "name": "stdout",
     "output_type": "stream",
     "text": [
      "[[  74  297]\n",
      " [  33 6150]]\n",
      "Accuracy Score of test dataset\n",
      "0.9496490692706744\n",
      "Confusion matrix of train model\n",
      "[[  703   823]\n",
      " [    2 24687]]\n",
      "Accuracy Score of train dataset\n",
      "0.9685294678619111\n"
     ]
    }
   ],
   "source": [
    "model = RandomForestClassifier(n_estimators=600,\n",
    "                               max_depth=15,\n",
    "                               random_state=4,\n",
    "                               oob_score=True,\n",
    "                               n_jobs=-1)\n",
    "X_train,X_test,Y_train,Y_test=train_test_split(x_train,y_train,test_size=0.20,random_state=43)\n",
    "model.fit(X_train,Y_train)\n",
    "model.predict(X_test)\n",
    "model.predict(X_train)\n",
    "print(confusion_matrix(Y_test,model.predict(X_test)))\n",
    "print('Accuracy Score of test dataset')\n",
    "print(accuracy_score(Y_test,model.predict(X_test)))\n",
    "print(\"Confusion matrix of train model\")\n",
    "print(confusion_matrix(Y_train,model.predict(X_train)))\n",
    "print(\"Accuracy Score of train dataset\")\n",
    "print(accuracy_score(Y_train,model.predict(X_train)))"
   ]
  },
  {
   "cell_type": "markdown",
   "metadata": {},
   "source": [
    "##### Bagging"
   ]
  },
  {
   "cell_type": "raw",
   "metadata": {},
   "source": [
    "Бэггинг (баггинг) - от англ. Bootstrap aggregating, это технология классификации, использующая композиции алгоритмов, каждый из которых обучается независимо. Результат классификации определяется путем голосования. Бэггинг позволяет снизить процент ошибки классификации в случае, когда высока дисперсия ошибки базового метода.\n",
    "Бэггинг – технология классификации, где все элементарные классификаторы обучаются и работают параллельно (независимо друг от друга). Идея заключается в том, что классификаторы не исправляют ошибки друг друга, а компенсируют их при \"голосовании\". Базовые классификаторы должны быть независимыми, это могут быть классификаторы основанные на разных группах методов или же обученные на независимых наборах данных."
   ]
  },
  {
   "cell_type": "code",
   "execution_count": 63,
   "metadata": {},
   "outputs": [
    {
     "name": "stdout",
     "output_type": "stream",
     "text": [
      "[[ 143  228]\n",
      " [ 127 6056]]\n",
      "Accuracy Score of test dataset\n",
      "0.9458346048214831\n",
      "Confusion matrix of train model\n",
      "[[ 1461    65]\n",
      " [   32 24657]]\n",
      "Accuracy Score of train dataset\n",
      "0.9962998283425519\n"
     ]
    }
   ],
   "source": [
    "b_model = BaggingClassifier()\n",
    "b_model.fit(X_train,Y_train)\n",
    "b_model.predict(X_test)\n",
    "b_model.predict(X_train)\n",
    "print(confusion_matrix(Y_test,b_model.predict(X_test)))\n",
    "print('Accuracy Score of test dataset')\n",
    "print(accuracy_score(Y_test,b_model.predict(X_test)))\n",
    "print(\"Confusion matrix of train model\")\n",
    "print(confusion_matrix(Y_train,b_model.predict(X_train)))\n",
    "print(\"Accuracy Score of train dataset\")\n",
    "print(accuracy_score(Y_train,b_model.predict(X_train)))"
   ]
  },
  {
   "cell_type": "markdown",
   "metadata": {},
   "source": [
    "##### AdaBoost"
   ]
  },
  {
   "cell_type": "raw",
   "metadata": {},
   "source": [
    "Алгоритм AdaBoost (сокр. от adaptive boosting) — алгоритм машинного обучения, предложенный Йоавом Фройндом (Yoav Freund) и Робертом Шапиром (Robert Schapire). Является мета-алгоритмом, в процессе обучения строит композицию из базовых алгоритмов обучения для улучшения их эффективности. AdaBoost является алгоритмом адаптивного бустинга в том смысле, что каждый следующий классификатор строится по объектам, которые плохо классифицируются предыдущими классификаторами.\n",
    "\n",
    "AdaBoost вызывает слабый классификатор в цикле. После каждого вызова обновляется распределение весов, которые отвечают важности каждого из объектов обучающего множества для классификации. На каждой итерации веса каждого неверно классифицированного объекта возрастают, таким образом новый классификатор «фокусирует своё внимание» на этих объектах.\n",
    "Алгоритм может использоваться в сочетании с несколькими алгоритмами классификации для улучшения их эффективности. Алгоритм усиливает классификаторы.\n",
    "\n",
    "Классификатор sklearn.ensemble.AdaBoostClassifier имеет 5 параметров: base_estimator, n_estimators, learning_rate, algorithm, random_state. \n",
    "\n",
    "Наиболее важными являются:\n",
    "base_estimator — базовый алгоритм. По умолчанию используется DecisionTreeClassifier(max_depth=1);\n",
    "n_estimators — максимальное количество оценок, после которого бустинг прекращается. Если произойдет полное совпадение, то закончится раньше;\n",
    "learning_rate — вклад каждой модели в весовые коэффициенты и значение по умолчанию равно 1. Снижение этого параметра будет означать, что весовые коэффициенты буду увеличиваться или уменьшаться в небольшой степени, вынуждая модель дольше обучаться (но иногда повышается производительность)."
   ]
  },
  {
   "cell_type": "code",
   "execution_count": 64,
   "metadata": {},
   "outputs": [
    {
     "name": "stdout",
     "output_type": "stream",
     "text": [
      "Accuracy: 0.9498016478486421\n"
     ]
    }
   ],
   "source": [
    "# для применения критерий используем модель случайного леса, так как из построенных нами моделей она выдает наилучший результат\n",
    "bdt = AdaBoostClassifier(model,\n",
    "                         algorithm=\"SAMME\",\n",
    "                         n_estimators=1)\n",
    "\n",
    "bdt.fit(X_train, Y_train)\n",
    "y_pred = bdt.predict(X_test)\n",
    "\n",
    "print(\"Accuracy:\",accuracy_score(Y_test, y_pred))"
   ]
  },
  {
   "cell_type": "markdown",
   "metadata": {},
   "source": [
    "## Часть 3. Изменяем признаки."
   ]
  },
  {
   "cell_type": "code",
   "execution_count": 65,
   "metadata": {},
   "outputs": [
    {
     "data": {
      "text/html": [
       "<div>\n",
       "<style scoped>\n",
       "    .dataframe tbody tr th:only-of-type {\n",
       "        vertical-align: middle;\n",
       "    }\n",
       "\n",
       "    .dataframe tbody tr th {\n",
       "        vertical-align: top;\n",
       "    }\n",
       "\n",
       "    .dataframe thead th {\n",
       "        text-align: right;\n",
       "    }\n",
       "</style>\n",
       "<table border=\"1\" class=\"dataframe\">\n",
       "  <thead>\n",
       "    <tr style=\"text-align: right;\">\n",
       "      <th></th>\n",
       "      <th>RESOURCE</th>\n",
       "      <th>MGR_ID</th>\n",
       "      <th>ROLE_ROLLUP_1</th>\n",
       "      <th>ROLE_ROLLUP_2</th>\n",
       "      <th>ROLE_DEPTNAME</th>\n",
       "      <th>ROLE_TITLE</th>\n",
       "      <th>ROLE_FAMILY_DESC</th>\n",
       "      <th>ROLE_FAMILY</th>\n",
       "      <th>ROLE_CODE</th>\n",
       "    </tr>\n",
       "  </thead>\n",
       "  <tbody>\n",
       "    <tr>\n",
       "      <td>0</td>\n",
       "      <td>39353</td>\n",
       "      <td>85475</td>\n",
       "      <td>117961</td>\n",
       "      <td>118300</td>\n",
       "      <td>123472</td>\n",
       "      <td>117905</td>\n",
       "      <td>117906</td>\n",
       "      <td>290919</td>\n",
       "      <td>117908</td>\n",
       "    </tr>\n",
       "    <tr>\n",
       "      <td>1</td>\n",
       "      <td>17183</td>\n",
       "      <td>1540</td>\n",
       "      <td>117961</td>\n",
       "      <td>118343</td>\n",
       "      <td>123125</td>\n",
       "      <td>118536</td>\n",
       "      <td>118536</td>\n",
       "      <td>308574</td>\n",
       "      <td>118539</td>\n",
       "    </tr>\n",
       "    <tr>\n",
       "      <td>2</td>\n",
       "      <td>36724</td>\n",
       "      <td>14457</td>\n",
       "      <td>118219</td>\n",
       "      <td>118220</td>\n",
       "      <td>117884</td>\n",
       "      <td>117879</td>\n",
       "      <td>267952</td>\n",
       "      <td>19721</td>\n",
       "      <td>117880</td>\n",
       "    </tr>\n",
       "    <tr>\n",
       "      <td>3</td>\n",
       "      <td>36135</td>\n",
       "      <td>5396</td>\n",
       "      <td>117961</td>\n",
       "      <td>118343</td>\n",
       "      <td>119993</td>\n",
       "      <td>118321</td>\n",
       "      <td>240983</td>\n",
       "      <td>290919</td>\n",
       "      <td>118322</td>\n",
       "    </tr>\n",
       "    <tr>\n",
       "      <td>4</td>\n",
       "      <td>42680</td>\n",
       "      <td>5905</td>\n",
       "      <td>117929</td>\n",
       "      <td>117930</td>\n",
       "      <td>119569</td>\n",
       "      <td>119323</td>\n",
       "      <td>123932</td>\n",
       "      <td>19793</td>\n",
       "      <td>119325</td>\n",
       "    </tr>\n",
       "  </tbody>\n",
       "</table>\n",
       "</div>"
      ],
      "text/plain": [
       "   RESOURCE  MGR_ID  ROLE_ROLLUP_1  ROLE_ROLLUP_2  ROLE_DEPTNAME  ROLE_TITLE  \\\n",
       "0     39353   85475         117961         118300         123472      117905   \n",
       "1     17183    1540         117961         118343         123125      118536   \n",
       "2     36724   14457         118219         118220         117884      117879   \n",
       "3     36135    5396         117961         118343         119993      118321   \n",
       "4     42680    5905         117929         117930         119569      119323   \n",
       "\n",
       "   ROLE_FAMILY_DESC  ROLE_FAMILY  ROLE_CODE  \n",
       "0            117906       290919     117908  \n",
       "1            118536       308574     118539  \n",
       "2            267952        19721     117880  \n",
       "3            240983       290919     118322  \n",
       "4            123932        19793     119325  "
      ]
     },
     "execution_count": 65,
     "metadata": {},
     "output_type": "execute_result"
    }
   ],
   "source": [
    "#Убираем искомый параметр из тренировочной выборки\n",
    "train.pop(\"ACTION\")\n",
    "train.head()"
   ]
  },
  {
   "cell_type": "code",
   "execution_count": 66,
   "metadata": {
    "scrolled": true
   },
   "outputs": [
    {
     "data": {
      "text/html": [
       "<div>\n",
       "<style scoped>\n",
       "    .dataframe tbody tr th:only-of-type {\n",
       "        vertical-align: middle;\n",
       "    }\n",
       "\n",
       "    .dataframe tbody tr th {\n",
       "        vertical-align: top;\n",
       "    }\n",
       "\n",
       "    .dataframe thead th {\n",
       "        text-align: right;\n",
       "    }\n",
       "</style>\n",
       "<table border=\"1\" class=\"dataframe\">\n",
       "  <thead>\n",
       "    <tr style=\"text-align: right;\">\n",
       "      <th></th>\n",
       "      <th>RESOURCE</th>\n",
       "      <th>MGR_ID</th>\n",
       "      <th>ROLE_ROLLUP_1</th>\n",
       "      <th>ROLE_ROLLUP_2</th>\n",
       "      <th>ROLE_DEPTNAME</th>\n",
       "      <th>ROLE_TITLE</th>\n",
       "      <th>ROLE_FAMILY_DESC</th>\n",
       "      <th>ROLE_FAMILY</th>\n",
       "      <th>ROLE_CODE</th>\n",
       "    </tr>\n",
       "  </thead>\n",
       "  <tbody>\n",
       "    <tr>\n",
       "      <td>0</td>\n",
       "      <td>78766</td>\n",
       "      <td>72734</td>\n",
       "      <td>118079</td>\n",
       "      <td>118080</td>\n",
       "      <td>117878</td>\n",
       "      <td>117879</td>\n",
       "      <td>118177</td>\n",
       "      <td>19721</td>\n",
       "      <td>117880</td>\n",
       "    </tr>\n",
       "    <tr>\n",
       "      <td>1</td>\n",
       "      <td>40644</td>\n",
       "      <td>4378</td>\n",
       "      <td>117961</td>\n",
       "      <td>118327</td>\n",
       "      <td>118507</td>\n",
       "      <td>118863</td>\n",
       "      <td>122008</td>\n",
       "      <td>118398</td>\n",
       "      <td>118865</td>\n",
       "    </tr>\n",
       "    <tr>\n",
       "      <td>2</td>\n",
       "      <td>75443</td>\n",
       "      <td>2395</td>\n",
       "      <td>117961</td>\n",
       "      <td>118300</td>\n",
       "      <td>119488</td>\n",
       "      <td>118172</td>\n",
       "      <td>301534</td>\n",
       "      <td>249618</td>\n",
       "      <td>118175</td>\n",
       "    </tr>\n",
       "    <tr>\n",
       "      <td>3</td>\n",
       "      <td>43219</td>\n",
       "      <td>19986</td>\n",
       "      <td>117961</td>\n",
       "      <td>118225</td>\n",
       "      <td>118403</td>\n",
       "      <td>120773</td>\n",
       "      <td>136187</td>\n",
       "      <td>118960</td>\n",
       "      <td>120774</td>\n",
       "    </tr>\n",
       "    <tr>\n",
       "      <td>4</td>\n",
       "      <td>42093</td>\n",
       "      <td>50015</td>\n",
       "      <td>117961</td>\n",
       "      <td>118343</td>\n",
       "      <td>119598</td>\n",
       "      <td>118422</td>\n",
       "      <td>300136</td>\n",
       "      <td>118424</td>\n",
       "      <td>118425</td>\n",
       "    </tr>\n",
       "  </tbody>\n",
       "</table>\n",
       "</div>"
      ],
      "text/plain": [
       "   RESOURCE  MGR_ID  ROLE_ROLLUP_1  ROLE_ROLLUP_2  ROLE_DEPTNAME  ROLE_TITLE  \\\n",
       "0     78766   72734         118079         118080         117878      117879   \n",
       "1     40644    4378         117961         118327         118507      118863   \n",
       "2     75443    2395         117961         118300         119488      118172   \n",
       "3     43219   19986         117961         118225         118403      120773   \n",
       "4     42093   50015         117961         118343         119598      118422   \n",
       "\n",
       "   ROLE_FAMILY_DESC  ROLE_FAMILY  ROLE_CODE  \n",
       "0            118177        19721     117880  \n",
       "1            122008       118398     118865  \n",
       "2            301534       249618     118175  \n",
       "3            136187       118960     120774  \n",
       "4            300136       118424     118425  "
      ]
     },
     "execution_count": 66,
     "metadata": {},
     "output_type": "execute_result"
    }
   ],
   "source": [
    "test.pop(\"id\")\n",
    "test.head()"
   ]
  },
  {
   "cell_type": "markdown",
   "metadata": {},
   "source": [
    "##### пробуем one-hot encoding\n",
    "\n",
    "\n",
    "One-hot Encoding применяется, когда один признак может принимать множество различных значений. Для удобства создается группа новых признаков, число которых равно числу уникальных значений признака. Далее на позицию, соответствующую численному значению признака мы помещаем 1, а значения остальных признаков делаем равными нулю. Таким образом работа с номинальными признаками становится понятной и логичной, чем нахождение числовых значений из строк и буквенных символов."
   ]
  },
  {
   "cell_type": "code",
   "execution_count": 67,
   "metadata": {},
   "outputs": [
    {
     "name": "stdout",
     "output_type": "stream",
     "text": [
      "The data size is : (91690, 9) \n",
      "The data_dummies size is : (91690, 16952) \n"
     ]
    }
   ],
   "source": [
    "data = pd.concat([train, test],axis=0)\n",
    "print(\"The data size is : {} \".format(data.shape))\n",
    "\n",
    "data_dummies = pd.get_dummies(data, columns=data.columns, drop_first=True) \n",
    "print(\"The data_dummies size is : {} \".format(data_dummies.shape))"
   ]
  },
  {
   "cell_type": "raw",
   "metadata": {},
   "source": [
    "Имея изначально всего 10 признаков, мы получили почти 17000 различных уникальных значений"
   ]
  },
  {
   "cell_type": "code",
   "execution_count": 68,
   "metadata": {},
   "outputs": [
    {
     "name": "stdout",
     "output_type": "stream",
     "text": [
      "The  new_train size is : (32769, 16952) \n",
      "The  new_test size is : (58921, 16952) \n"
     ]
    }
   ],
   "source": [
    "lr_train = data_dummies.iloc[:y.shape[0]]\n",
    "lr_test = data_dummies.iloc[y.shape[0]:]\n",
    "\n",
    "print(\"The  new_train size is : {} \".format(lr_train.shape))\n",
    "print(\"The  new_test size is : {} \".format(lr_test.shape))"
   ]
  },
  {
   "cell_type": "markdown",
   "metadata": {},
   "source": [
    "## Logistic regression on hot encoded data"
   ]
  },
  {
   "cell_type": "raw",
   "metadata": {},
   "source": [
    "Логистическая регрессия представляет собой мощный статистический способ прогнозирования вероятности возникновения некоторого события с одной или несколькими независимыми переменными. Логистическая регрессия это способ определения зависимости между переменными, одна из которых категориально зависима, а другие независимы. Практическое значение логистической регрессии заключается в том, что она является мощным статистическим методом предсказания событий, который включает в себя одну или несколько независимых переменных. Логистическая регрессия позволяет предсказывать значения непрерывной зависимой переменной на интервале от 0 до 1.\n",
    "В отличие от обычной регрессии, в методе логистической регрессии не производится предсказание значения числовой переменной исходя из выборки исходных значений. Вместо этого, значением функции является вероятность того, что данное исходное значение принадлежит к определенному классу."
   ]
  },
  {
   "cell_type": "raw",
   "metadata": {},
   "source": [
    "Параметры логистической регрессии\n",
    "solver : ‘newton-cg’, ‘lbfgs’, ‘liblinear’, ‘sag’(default =’liblinear’), – алгоритм, который используется для решения проблемы оптимизации.\n",
    "    Для небольших данных – ’liblinear’, ’sag’ – быстрее набольших данных, при этом данные должны быть в одной шкале\n",
    "    Для многоклассовых задач используются только‘newton-cg’ и ‘lbfgs’.\n",
    "penalty: ’l1’, ’l2’(default = ’l2’),– вид регуляризации\n",
    "C: float(default=1.0)– параметр регуляризации, должен быть положительным float. Меньшее С обеспечивает более сильную регуляризацию.\n",
    "fit_intercept : bool(default = True) – определяет добавлять ли константу к решающей функции\n",
    "class_weight : dict or ‘balanced’(default=None)– веса,ассоциированнные с классами, записываются в форме{class_label: weight}. Если параметр не указан, все весапредполагаются равными 1. \n",
    "    ’balanced’ использует значения y, чтобы автоматически установить веса обратно пропорционально частотам класса во входных данных.\n",
    "max_iter : int(default=100) – используется только для newton-cg, sag и lbfgs. Максимальное число итераций.\n",
    "random_state : int seed, RandomState instance, or None(default) – для инициализации генератора псевдослучайных чисел при перемешивании данных."
   ]
  },
  {
   "cell_type": "code",
   "execution_count": 71,
   "metadata": {},
   "outputs": [],
   "source": [
    "lr = LogisticRegression(random_state=333,C=0.99,class_weight=\"balanced\",penalty=\"l1\")"
   ]
  },
  {
   "cell_type": "code",
   "execution_count": 72,
   "metadata": {},
   "outputs": [],
   "source": [
    "lr_X_train, lr_X_test, lr_y_train, lr_y_test = train_test_split(lr_train, y, test_size=0.4)"
   ]
  },
  {
   "cell_type": "code",
   "execution_count": 73,
   "metadata": {},
   "outputs": [
    {
     "name": "stderr",
     "output_type": "stream",
     "text": [
      "H:\\anaconda\\lib\\site-packages\\sklearn\\linear_model\\logistic.py:432: FutureWarning: Default solver will be changed to 'lbfgs' in 0.22. Specify a solver to silence this warning.\n",
      "  FutureWarning)\n"
     ]
    },
    {
     "data": {
      "image/png": "[encoded data removed]",
      "text/plain": [
       "<Figure size 432x288 with 1 Axes>"
      ]
     },
     "metadata": {
      "needs_background": "light"
     },
     "output_type": "display_data"
    }
   ],
   "source": [
    "lr.fit(lr_X_train,lr_y_train)\n",
    "lr_pred_proba = lr.predict_proba(lr_X_test)\n",
    "\n",
    "plt.hist(lr_pred_proba,bins=20)\n",
    "plt.xlim([0.0,1.0])\n",
    "\n",
    "plt.show()"
   ]
  },
  {
   "cell_type": "markdown",
   "metadata": {},
   "source": [
    "##### ROC AUC"
   ]
  },
  {
   "cell_type": "raw",
   "metadata": {},
   "source": [
    "ROC-кривая (англ. receiver operating characteristic, рабочая характеристика приёмника) — график, позволяющий оценить качество бинарной классификации, отображает соотношение между долей объектов от общего количества носителей признака, верно классифицированных как несущие признак (англ. true positive rate, TPR, называемой чувствительностью алгоритма классификации), и долей объектов от общего количества объектов, не несущих признака, ошибочно классифицированных как несущие признак (англ. false positive rate, FPR) при варьировании порога решающего правила.\n",
    "\n",
    "Количественную интерпретацию ROC даёт показатель AUC (англ. area under ROC curve, площадь под ROC-кривой) — площадь, ограниченная ROC-кривой и осью доли ложных положительных классификаций. Чем выше показатель AUC, тем качественнее классификатор, при этом значение 0,5 демонстрирует непригодность выбранного метода классификации (соответствует случайному гаданию).\n",
    "\n",
    "Так как мы наблюдаем и работаем с несбалансированной выборкой, было принято решение строить рок-кривую в связи с тем, что качество и точность кривой зависят от предсказанных вероятностей классов, а не от «жёсткой» дискретной классификации, то есть несбалансированность выборки не помешает точному определению данных."
   ]
  },
  {
   "cell_type": "code",
   "execution_count": 74,
   "metadata": {},
   "outputs": [
    {
     "name": "stdout",
     "output_type": "stream",
     "text": [
      "0.8292396340064536\n"
     ]
    },
    {
     "data": {
      "image/png": "[encoded data removed]",
      "text/plain": [
       "<Figure size 432x288 with 1 Axes>"
      ]
     },
     "metadata": {
      "needs_background": "light"
     },
     "output_type": "display_data"
    }
   ],
   "source": [
    "fpr, tpr, thresholds = roc_curve(lr_y_test.values,lr_pred_proba[:,1])\n",
    "print(roc_auc_score(lr_y_test.values,lr_pred_proba[:,1]))\n",
    "plt.plot(fpr,tpr)\n",
    "plt.xlim([0.0,1.0])\n",
    "plt.ylim([0.0,1.0])\n",
    "\n",
    "plt.title(\"Amazon Employee Access, ROC AUC for Logistic Regression on One-hot Encoded data\")\n",
    "plt.xlabel(\"False Positive\")\n",
    "plt.ylabel(\"True Positive\")\n",
    "\n",
    "plt.grid(True)\n",
    "plt.show()"
   ]
  },
  {
   "cell_type": "markdown",
   "metadata": {},
   "source": [
    "### Random forest"
   ]
  },
  {
   "cell_type": "code",
   "execution_count": 75,
   "metadata": {},
   "outputs": [
    {
     "data": {
      "text/plain": [
       "0        117880\n",
       "1        118865\n",
       "2        118175\n",
       "3        120774\n",
       "4        118425\n",
       "          ...  \n",
       "58916    118786\n",
       "58917    118055\n",
       "58918    118279\n",
       "58919    118322\n",
       "58920    119435\n",
       "Name: ROLE_CODE, Length: 58921, dtype: int64"
      ]
     },
     "execution_count": 75,
     "metadata": {},
     "output_type": "execute_result"
    }
   ],
   "source": [
    "#убираем признак ROLE_CODE в связи с тем что он дублируется\n",
    "train.pop(\"ROLE_CODE\")\n",
    "test.pop(\"ROLE_CODE\")"
   ]
  },
  {
   "cell_type": "code",
   "execution_count": 76,
   "metadata": {},
   "outputs": [
    {
     "name": "stdout",
     "output_type": "stream",
     "text": [
      "The all_data size is : (91690, 8) \n"
     ]
    }
   ],
   "source": [
    "# Соединяем тестовую и тренировочную выборку\n",
    "rf_all_data = pd.concat([train, test],axis=0)\n",
    "print(\"The all_data size is : {} \".format(rf_all_data.shape))"
   ]
  },
  {
   "cell_type": "raw",
   "metadata": {},
   "source": [
    "В далее идущем методе мы решили найти для каждого признака частоту его встречаемости"
   ]
  },
  {
   "cell_type": "code",
   "execution_count": 77,
   "metadata": {},
   "outputs": [],
   "source": [
    "# Находим частоту встречаемости каждого признака\n",
    "def add_counts(data):\n",
    "    for col in data.columns: \n",
    "        count = data[col].value_counts()\n",
    "        data['count_'+col] = data[col].replace(count)\n",
    "    return data\n",
    "\n",
    "train = add_counts(rf_all_data)"
   ]
  },
  {
   "cell_type": "code",
   "execution_count": 79,
   "metadata": {},
   "outputs": [],
   "source": [
    "rf_train = rf_all_data.iloc[:y.shape[0]]\n",
    "rf_test = rf_all_data.iloc[y.shape[0]:]"
   ]
  },
  {
   "cell_type": "code",
   "execution_count": 80,
   "metadata": {},
   "outputs": [],
   "source": [
    "rf = RandomForestClassifier(n_estimators=600,\n",
    "                               max_depth=15,\n",
    "                               random_state=4,\n",
    "                               oob_score=True,\n",
    "                               n_jobs=-1)"
   ]
  },
  {
   "cell_type": "code",
   "execution_count": 81,
   "metadata": {},
   "outputs": [],
   "source": [
    "rf_X_train, rf_X_test, rf_y_train, rf_y_test = train_test_split(rf_train, y, test_size=0.4)"
   ]
  },
  {
   "cell_type": "code",
   "execution_count": 82,
   "metadata": {},
   "outputs": [],
   "source": [
    "rf.fit(rf_X_train,rf_y_train)\n",
    "rf_pred_proba = rf.predict_proba(rf_X_test)"
   ]
  },
  {
   "cell_type": "code",
   "execution_count": 83,
   "metadata": {},
   "outputs": [
    {
     "name": "stdout",
     "output_type": "stream",
     "text": [
      "0.8555054499951258\n"
     ]
    },
    {
     "data": {
      "image/png": "[encoded data removed]",
      "text/plain": [
       "<Figure size 432x288 with 1 Axes>"
      ]
     },
     "metadata": {
      "needs_background": "light"
     },
     "output_type": "display_data"
    }
   ],
   "source": [
    "fpr, tpr, thresholds = roc_curve(rf_y_test.values,rf_pred_proba[:,1])\n",
    "print(roc_auc_score(rf_y_test.values,rf_pred_proba[:,1]))\n",
    "plt.plot(fpr,tpr)\n",
    "plt.xlim([0.0,1.0])\n",
    "plt.ylim([0.0,1.0])\n",
    "\n",
    "plt.title(\"Amazon Employee Access for Random Forest\")\n",
    "plt.xlabel(\"False Positive\")\n",
    "plt.ylabel(\"True Positive\")\n",
    "\n",
    "plt.grid(True)\n",
    "plt.show()"
   ]
  },
  {
   "cell_type": "markdown",
   "metadata": {},
   "source": [
    "#### Gradient boosting"
   ]
  },
  {
   "cell_type": "raw",
   "metadata": {},
   "source": [
    "Ансамбль — это набор предсказателей, которые вместе дают ответ (например, среднее по всем). Причина почему мы используем ансамбли — несколько предсказателей, которые пытаясь получить одну и ту же переменную дадут более точный результат, нежели одиночный предсказатель. \n",
    "Бустинг — это техника построения ансамблей, в которой предсказатели построены не независимо, а последовательно\n",
    "Это техника использует идею о том, что следующая модель будет учится на ошибках предыдущей. Они имеют неравную вероятность появления в последующих моделях, и чаще появятся те, что дают наибольшую ошибку. Предсказатели могут быть выбраны из широкого ассортимента моделей, например, деревья решений, регрессия, классификаторы и т.д. Нужно выбирать критерий остановки с осторожностью, иначе это может привести к переобучению. Градиентный бустинг — это пример бустинга.\n",
    "Градиентный бустинг — это техника машинного обучения для задач классификации и регрессии, которая строит модель предсказания в форме ансамбля слабых предсказывающих моделей, обычно деревьев решений."
   ]
  },
  {
   "cell_type": "code",
   "execution_count": 84,
   "metadata": {},
   "outputs": [],
   "source": [
    "gbc_train = rf_train\n",
    "gbc_test = rf_test"
   ]
  },
  {
   "cell_type": "code",
   "execution_count": 85,
   "metadata": {},
   "outputs": [
    {
     "data": {
      "text/plain": [
       "array([[ 1.16802002,  1.3113764 ,  0.09720754, ...,  0.08437938,\n",
       "        -0.49106582, -0.34020656],\n",
       "       [ 0.03737748, -0.63553629,  0.08628703, ..., -0.73172713,\n",
       "        -0.54167847, -0.695597  ],\n",
       "       [ 1.06946472, -0.69201601,  0.08628703, ..., -0.77347051,\n",
       "        -0.49179302, -0.95396075],\n",
       "       ...,\n",
       "       [-0.00361061, -0.58609161,  0.08628703, ..., -0.68458994,\n",
       "        -0.47724915,  1.48059755],\n",
       "       [-1.1377232 , -0.5131778 ,  0.08628703, ...,  2.01770755,\n",
       "         2.06501849,  1.48059755],\n",
       "       [ 0.16588789, -0.64863799,  0.08628703, ..., -0.67239525,\n",
       "        -0.40278456, -0.30585014]])"
      ]
     },
     "execution_count": 85,
     "metadata": {},
     "output_type": "execute_result"
    }
   ],
   "source": [
    "from sklearn.preprocessing import StandardScaler \n",
    "SS = StandardScaler(copy=False, with_mean=True, with_std=True) \n",
    "SS.fit_transform(gbc_train)\n",
    "SS.fit_transform(gbc_test)"
   ]
  },
  {
   "cell_type": "code",
   "execution_count": 86,
   "metadata": {},
   "outputs": [
    {
     "name": "stdout",
     "output_type": "stream",
     "text": [
      "0.8420242966929999\n"
     ]
    },
    {
     "data": {
      "image/png": "[encoded data removed]",
      "text/plain": [
       "<Figure size 432x288 with 1 Axes>"
      ]
     },
     "metadata": {
      "needs_background": "light"
     },
     "output_type": "display_data"
    }
   ],
   "source": [
    "gbc = GradientBoostingClassifier(n_estimators=3000, min_samples_split=9)\n",
    "gbc.fit(rf_X_train,rf_y_train)\n",
    "gbc_pred_proba = gbc.predict_proba(rf_X_test)\n",
    "fpr, tpr, thresholds = roc_curve(rf_y_test.values,gbc_pred_proba[:,1])\n",
    "print(roc_auc_score(rf_y_test.values,gbc_pred_proba[:,1]))\n",
    "plt.plot(fpr,tpr)\n",
    "plt.xlim([0.0,1.0])\n",
    "plt.ylim([0.0,1.0])\n",
    "\n",
    "plt.title(\"Amazon Employee Access\")\n",
    "plt.xlabel(\"False Positive\")\n",
    "plt.ylabel(\"True Positive\")\n",
    "\n",
    "plt.grid(True)\n",
    "plt.show()"
   ]
  },
  {
   "cell_type": "code",
   "execution_count": 87,
   "metadata": {},
   "outputs": [
    {
     "name": "stdout",
     "output_type": "stream",
     "text": [
      "Accuracy: 0.9444613976197742\n"
     ]
    }
   ],
   "source": [
    "bdt = AdaBoostClassifier(model,\n",
    "                         algorithm=\"SAMME\",\n",
    "                         n_estimators=1)\n",
    "\n",
    "bdt.fit(rf_X_train, rf_y_train)\n",
    "y_pred = bdt.predict(rf_X_test)\n",
    "\n",
    "print(\"Accuracy:\",accuracy_score(rf_y_test, y_pred))"
   ]
  },
  {
   "cell_type": "raw",
   "metadata": {},
   "source": [
    "Ada Boost сплоховал и не справился:("
   ]
  },
  {
   "cell_type": "markdown",
   "metadata": {},
   "source": [
    "## Выводы"
   ]
  },
  {
   "cell_type": "raw",
   "metadata": {},
   "source": [
    "Сравним финальные оценки:"
   ]
  },
  {
   "cell_type": "markdown",
   "metadata": {},
   "source": [
    "| Метод | Оценка |\n",
    "| --- | --- |\n",
    "| most frequent dummy classifier | 0.9421099209618847 |\n",
    "| uniform dummy classifier | 0.4990387256248283 |\n",
    "| stratified dummy classifier | 0.8905978211114163 |\n",
    "| Decision Tree Classifier | 0.9452242905096124 |\n",
    "| Random Forest | 0.9496490692706744 |\n",
    "| Bagging | 0.9458346048214831 |\n",
    "| AdaBoost on Random Forest | 0.9498016478486421 |\n",
    "| One-hot Encoded Logistic Regression | 0.8292396340064536 |\n",
    "| One-hot encoded Random Forest | 0.8555054499951258 |\n",
    "| Gradient Boosting on standartized data | 0.8420242966929999 |"
   ]
  },
  {
   "cell_type": "markdown",
   "metadata": {},
   "source": [
    "## Выводы\n",
    "Можно заметить, что на выборках, в которых признаки были обработаны методом one-hot encoding, оценки ниже. Это связано с тем, что до применения кодирования признаков, категориальные признаки не учитывались. Заметно, что все модель дают результат примерно 94%, что следует из распределения данных в тренировочной выборке. То есть можно сказать, что эти модели беспорядочным образом распределяют 6% отрицательных значений и \"надеется на лучшее\". Лучшая оценка при использовании метода AdaBoost, который улучшил примененный алгоритм случайных деревьев. \n",
    "После кодирования категориальных признаков, мы добились лучшей оценки в 85% применив модель случайных деревьев. Таким образом, мы видим, что при решении задачи классификации этот алгоритм подходит лучше всего из нами рассмотренных, однако он является сложным в понимании и ручной имплементации.\n",
    "Таким образом, изучив и применив различные методы тренировки модели, мы добились того, что наша лучшая модель дает ответ с ошибкой меньше, чем 6%, что является очень высоким показателем, однако такая модель не учитывает категориальные признаки. С учетом же категориальных признаков, мы получаем модель, которая с вероятностью 0,85 даст правильный ответ, что является достаточно хорошим показателем."
   ]
  }
 ],
 "metadata": {
  "kernelspec": {
   "display_name": "Python 3",
   "language": "python",
   "name": "python3"
  },
  "language_info": {
   "codemirror_mode": {
    "name": "ipython",
    "version": 3
   },
   "file_extension": ".py",
   "mimetype": "text/x-python",
   "name": "python",
   "nbconvert_exporter": "python",
   "pygments_lexer": "ipython3",
   "version": "3.7.4"
  }
 },
 "nbformat": 4,
 "nbformat_minor": 2
}
