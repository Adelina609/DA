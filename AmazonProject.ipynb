{
 "cells": [
  {
   "cell_type": "markdown",
   "metadata": {},
   "source": [
    "# Amazon project - Employee Access Challenge"
   ]
  },
  {
   "cell_type": "raw",
   "metadata": {},
   "source": [
    "Когда сотрудник любой компании начинает работу, ему сначала необходимо получить доступ к компьютеру, необходимый для выполнения его роли. Этот доступ может позволить сотруднику читать / манипулировать ресурсами через различные приложения или веб-порталы. Предполагается, что сотрудники, выполняющие функции данной роли, будут иметь доступ к тем же или аналогичным ресурсам. \n",
    "Часто сотрудникам приходится выяснять, какой доступ им нужен, поскольку они сталкиваются с препятствиями во время своей повседневной работы (например, не могут войти на портал отчетности). Знающий и распределяющий сотрудникам доступы руководитель тратит время, чтобы вручную предоставить необходимый доступ, чтобы преодолеть препятствия для получения необходимых данных. Поскольку сотрудники перемещаются по всей компании, этот цикл обнаружения / восстановления доступа тратит нетривиальное количество времени и денег.\n",
    "\n",
    "Существует значительный объем данных о роли сотрудника в организации и ресурсах, к которым он имеет доступ. Учитывая данные, относящиеся к текущим сотрудникам и предоставленному им доступу, можно создавать модели, которые автоматически определяют привилегии доступа, когда сотрудники входят и выходят из ролей в компании. Эти модели автоматического доступа стремятся минимизировать участие человека, необходимое для предоставления или отзыва доступа сотрудника.\n",
    "\n",
    "Цель - построение модели, изученной с использованием исторических данных, которая будет определять потребности сотрудника в доступе, так что транзакции ручного доступа (предоставление и отзыв) минимизируются по мере изменения атрибутов сотрудника с течением времени. Модель будет принимать информацию о роли сотрудника и код ресурса и будет возвращать, должен ли быть предоставлен доступ."
   ]
  },
  {
   "cell_type": "raw",
   "metadata": {},
   "source": [
    "Данные состоят из реальных исторических данных, собранных за 2010 и 2011 годы. Сотрудникам вручную разрешают или запрещают доступ к ресурсам с течением времени. \n",
    "Это задача классификации – получение категориального ответа на основе набора признаков. "
   ]
  },
  {
   "cell_type": "markdown",
   "metadata": {},
   "source": [
    "| Column name | Description |\n",
    "| --- | --- |\n",
    "| ACTION | 1, если ресурс был утвержден, 0, если ресурс не был |\n",
    "| RESOURCE | Идентификатор ресурса |\n",
    "| MGR_ID | Идентификатор руководителя данного работника - у работника может быть только один руководитель |\n",
    "| ROLE_ROLLUP_1 | Идентификатор категории группы профессий/ролей компании 1 (US Engineering)  |\n",
    "| ROLE_ROLLUP_2 | Идентификатор категории группы профессий/ролей компании 2 (US Retail) |\n",
    "| ROLE_DEPTNAME | Название отдела (Retail) |\n",
    "| ROLE_TITLE | Название роли в этой компании (Senior Engineering Retail Manager) |\n",
    "| ROLE_FAMILY_DESC | Расширенное описание профессии (Retail Manager, Software Engineering) |\n",
    "| ROLE_FAMILY | Описание роли/профессии, название (Retail Manager) |\n",
    "| ROLE_CODE | Код компании; этот код уникален для каждой роли |"
   ]
  },
  {
   "cell_type": "raw",
   "metadata": {},
   "source": [
    "Импортируем необходимые библиотеки и методы:"
   ]
  },
  {
   "cell_type": "code",
   "execution_count": 95,
   "metadata": {},
   "outputs": [],
   "source": [
    "import pandas as pd\n",
    "import numpy as np\n",
    "import matplotlib.pyplot as plt\n",
    "import seaborn as sns\n",
    "from sklearn.model_selection import train_test_split\n",
    "from sklearn.metrics import roc_curve, auc, roc_auc_score\n",
    "from sklearn.ensemble import RandomForestClassifier, AdaBoostClassifier, GradientBoostingClassifier, BaggingClassifier\n",
    "from sklearn.linear_model import LogisticRegression\n",
    "from sklearn.tree import DecisionTreeClassifier\n",
    "from sklearn.model_selection import KFold, StratifiedKFold, cross_val_score"
   ]
  },
  {
   "cell_type": "raw",
   "metadata": {},
   "source": [
    "Находим тестовую и тренировочную выборки и загружаем их"
   ]
  },
  {
   "cell_type": "code",
   "execution_count": 28,
   "metadata": {},
   "outputs": [],
   "source": [
    "train = pd.read_csv(\"C:/Users/Lenovo/Downloads/data/train.csv\")\n",
    "test = pd.read_csv(\"C:/Users/Lenovo/Downloads/data/test.csv\")\n",
    "\n",
    "y = train[\"ACTION\"]"
   ]
  },
  {
   "cell_type": "raw",
   "metadata": {},
   "source": [
    "Рассмотрим содержание выборок: существующие признаки и их число"
   ]
  },
  {
   "cell_type": "code",
   "execution_count": 30,
   "metadata": {},
   "outputs": [
    {
     "name": "stdout",
     "output_type": "stream",
     "text": [
      "<class 'pandas.core.frame.DataFrame'>\n",
      "RangeIndex: 32769 entries, 0 to 32768\n",
      "Data columns (total 10 columns):\n",
      "ACTION              32769 non-null int64\n",
      "RESOURCE            32769 non-null int64\n",
      "MGR_ID              32769 non-null int64\n",
      "ROLE_ROLLUP_1       32769 non-null int64\n",
      "ROLE_ROLLUP_2       32769 non-null int64\n",
      "ROLE_DEPTNAME       32769 non-null int64\n",
      "ROLE_TITLE          32769 non-null int64\n",
      "ROLE_FAMILY_DESC    32769 non-null int64\n",
      "ROLE_FAMILY         32769 non-null int64\n",
      "ROLE_CODE           32769 non-null int64\n",
      "dtypes: int64(10)\n",
      "memory usage: 2.5 MB\n",
      "<class 'pandas.core.frame.DataFrame'>\n",
      "RangeIndex: 58921 entries, 0 to 58920\n",
      "Data columns (total 10 columns):\n",
      "id                  58921 non-null int64\n",
      "RESOURCE            58921 non-null int64\n",
      "MGR_ID              58921 non-null int64\n",
      "ROLE_ROLLUP_1       58921 non-null int64\n",
      "ROLE_ROLLUP_2       58921 non-null int64\n",
      "ROLE_DEPTNAME       58921 non-null int64\n",
      "ROLE_TITLE          58921 non-null int64\n",
      "ROLE_FAMILY_DESC    58921 non-null int64\n",
      "ROLE_FAMILY         58921 non-null int64\n",
      "ROLE_CODE           58921 non-null int64\n",
      "dtypes: int64(10)\n",
      "memory usage: 4.5 MB\n"
     ]
    }
   ],
   "source": [
    "train.info()\n",
    "test.info()"
   ]
  },
  {
   "cell_type": "code",
   "execution_count": 31,
   "metadata": {
    "scrolled": true
   },
   "outputs": [
    {
     "data": {
      "text/html": [
       "<div>\n",
       "<style scoped>\n",
       "    .dataframe tbody tr th:only-of-type {\n",
       "        vertical-align: middle;\n",
       "    }\n",
       "\n",
       "    .dataframe tbody tr th {\n",
       "        vertical-align: top;\n",
       "    }\n",
       "\n",
       "    .dataframe thead th {\n",
       "        text-align: right;\n",
       "    }\n",
       "</style>\n",
       "<table border=\"1\" class=\"dataframe\">\n",
       "  <thead>\n",
       "    <tr style=\"text-align: right;\">\n",
       "      <th></th>\n",
       "      <th>ACTION</th>\n",
       "      <th>RESOURCE</th>\n",
       "      <th>MGR_ID</th>\n",
       "      <th>ROLE_ROLLUP_1</th>\n",
       "      <th>ROLE_ROLLUP_2</th>\n",
       "      <th>ROLE_DEPTNAME</th>\n",
       "      <th>ROLE_TITLE</th>\n",
       "      <th>ROLE_FAMILY_DESC</th>\n",
       "      <th>ROLE_FAMILY</th>\n",
       "      <th>ROLE_CODE</th>\n",
       "    </tr>\n",
       "  </thead>\n",
       "  <tbody>\n",
       "    <tr>\n",
       "      <td>count</td>\n",
       "      <td>32769.000000</td>\n",
       "      <td>32769.000000</td>\n",
       "      <td>32769.000000</td>\n",
       "      <td>32769.000000</td>\n",
       "      <td>32769.000000</td>\n",
       "      <td>32769.000000</td>\n",
       "      <td>32769.000000</td>\n",
       "      <td>32769.000000</td>\n",
       "      <td>32769.000000</td>\n",
       "      <td>32769.000000</td>\n",
       "    </tr>\n",
       "    <tr>\n",
       "      <td>mean</td>\n",
       "      <td>0.942110</td>\n",
       "      <td>42923.916171</td>\n",
       "      <td>25988.957979</td>\n",
       "      <td>116952.627788</td>\n",
       "      <td>118301.823156</td>\n",
       "      <td>118912.779914</td>\n",
       "      <td>125916.152644</td>\n",
       "      <td>170178.369648</td>\n",
       "      <td>183703.408893</td>\n",
       "      <td>119789.430132</td>\n",
       "    </tr>\n",
       "    <tr>\n",
       "      <td>std</td>\n",
       "      <td>0.233539</td>\n",
       "      <td>34173.892702</td>\n",
       "      <td>35928.031650</td>\n",
       "      <td>10875.563591</td>\n",
       "      <td>4551.588572</td>\n",
       "      <td>18961.322917</td>\n",
       "      <td>31036.465825</td>\n",
       "      <td>69509.462130</td>\n",
       "      <td>100488.407413</td>\n",
       "      <td>5784.275516</td>\n",
       "    </tr>\n",
       "    <tr>\n",
       "      <td>min</td>\n",
       "      <td>0.000000</td>\n",
       "      <td>0.000000</td>\n",
       "      <td>25.000000</td>\n",
       "      <td>4292.000000</td>\n",
       "      <td>23779.000000</td>\n",
       "      <td>4674.000000</td>\n",
       "      <td>117879.000000</td>\n",
       "      <td>4673.000000</td>\n",
       "      <td>3130.000000</td>\n",
       "      <td>117880.000000</td>\n",
       "    </tr>\n",
       "    <tr>\n",
       "      <td>25%</td>\n",
       "      <td>1.000000</td>\n",
       "      <td>20299.000000</td>\n",
       "      <td>4566.000000</td>\n",
       "      <td>117961.000000</td>\n",
       "      <td>118102.000000</td>\n",
       "      <td>118395.000000</td>\n",
       "      <td>118274.000000</td>\n",
       "      <td>117906.000000</td>\n",
       "      <td>118363.000000</td>\n",
       "      <td>118232.000000</td>\n",
       "    </tr>\n",
       "    <tr>\n",
       "      <td>50%</td>\n",
       "      <td>1.000000</td>\n",
       "      <td>35376.000000</td>\n",
       "      <td>13545.000000</td>\n",
       "      <td>117961.000000</td>\n",
       "      <td>118300.000000</td>\n",
       "      <td>118921.000000</td>\n",
       "      <td>118568.000000</td>\n",
       "      <td>128696.000000</td>\n",
       "      <td>119006.000000</td>\n",
       "      <td>118570.000000</td>\n",
       "    </tr>\n",
       "    <tr>\n",
       "      <td>75%</td>\n",
       "      <td>1.000000</td>\n",
       "      <td>74189.000000</td>\n",
       "      <td>42034.000000</td>\n",
       "      <td>117961.000000</td>\n",
       "      <td>118386.000000</td>\n",
       "      <td>120535.000000</td>\n",
       "      <td>120006.000000</td>\n",
       "      <td>235280.000000</td>\n",
       "      <td>290919.000000</td>\n",
       "      <td>119348.000000</td>\n",
       "    </tr>\n",
       "    <tr>\n",
       "      <td>max</td>\n",
       "      <td>1.000000</td>\n",
       "      <td>312153.000000</td>\n",
       "      <td>311696.000000</td>\n",
       "      <td>311178.000000</td>\n",
       "      <td>286791.000000</td>\n",
       "      <td>286792.000000</td>\n",
       "      <td>311867.000000</td>\n",
       "      <td>311867.000000</td>\n",
       "      <td>308574.000000</td>\n",
       "      <td>270691.000000</td>\n",
       "    </tr>\n",
       "  </tbody>\n",
       "</table>\n",
       "</div>"
      ],
      "text/plain": [
       "             ACTION       RESOURCE         MGR_ID  ROLE_ROLLUP_1  \\\n",
       "count  32769.000000   32769.000000   32769.000000   32769.000000   \n",
       "mean       0.942110   42923.916171   25988.957979  116952.627788   \n",
       "std        0.233539   34173.892702   35928.031650   10875.563591   \n",
       "min        0.000000       0.000000      25.000000    4292.000000   \n",
       "25%        1.000000   20299.000000    4566.000000  117961.000000   \n",
       "50%        1.000000   35376.000000   13545.000000  117961.000000   \n",
       "75%        1.000000   74189.000000   42034.000000  117961.000000   \n",
       "max        1.000000  312153.000000  311696.000000  311178.000000   \n",
       "\n",
       "       ROLE_ROLLUP_2  ROLE_DEPTNAME     ROLE_TITLE  ROLE_FAMILY_DESC  \\\n",
       "count   32769.000000   32769.000000   32769.000000      32769.000000   \n",
       "mean   118301.823156  118912.779914  125916.152644     170178.369648   \n",
       "std      4551.588572   18961.322917   31036.465825      69509.462130   \n",
       "min     23779.000000    4674.000000  117879.000000       4673.000000   \n",
       "25%    118102.000000  118395.000000  118274.000000     117906.000000   \n",
       "50%    118300.000000  118921.000000  118568.000000     128696.000000   \n",
       "75%    118386.000000  120535.000000  120006.000000     235280.000000   \n",
       "max    286791.000000  286792.000000  311867.000000     311867.000000   \n",
       "\n",
       "         ROLE_FAMILY      ROLE_CODE  \n",
       "count   32769.000000   32769.000000  \n",
       "mean   183703.408893  119789.430132  \n",
       "std    100488.407413    5784.275516  \n",
       "min      3130.000000  117880.000000  \n",
       "25%    118363.000000  118232.000000  \n",
       "50%    119006.000000  118570.000000  \n",
       "75%    290919.000000  119348.000000  \n",
       "max    308574.000000  270691.000000  "
      ]
     },
     "execution_count": 31,
     "metadata": {},
     "output_type": "execute_result"
    }
   ],
   "source": [
    "# Чтобы узнать разброс значений, среднюю стоимость и медиану в каждом из признаков, используем метод .describe():\n",
    "train.describe()"
   ]
  },
  {
   "cell_type": "code",
   "execution_count": 70,
   "metadata": {},
   "outputs": [
    {
     "data": {
      "text/plain": [
       "ACTION              0\n",
       "RESOURCE            0\n",
       "MGR_ID              0\n",
       "ROLE_ROLLUP_1       0\n",
       "ROLE_ROLLUP_2       0\n",
       "ROLE_DEPTNAME       0\n",
       "ROLE_TITLE          0\n",
       "ROLE_FAMILY_DESC    0\n",
       "ROLE_FAMILY         0\n",
       "ROLE_CODE           0\n",
       "dtype: int64"
      ]
     },
     "execution_count": 70,
     "metadata": {},
     "output_type": "execute_result"
    }
   ],
   "source": [
    "# Проверим, имеются ли пустые, незаполненные ячейки в тренировочной выборке\n",
    "train.isna().sum()"
   ]
  },
  {
   "cell_type": "code",
   "execution_count": 100,
   "metadata": {},
   "outputs": [
    {
     "data": {
      "text/html": [
       "<div>\n",
       "<style scoped>\n",
       "    .dataframe tbody tr th:only-of-type {\n",
       "        vertical-align: middle;\n",
       "    }\n",
       "\n",
       "    .dataframe tbody tr th {\n",
       "        vertical-align: top;\n",
       "    }\n",
       "\n",
       "    .dataframe thead th {\n",
       "        text-align: right;\n",
       "    }\n",
       "</style>\n",
       "<table border=\"1\" class=\"dataframe\">\n",
       "  <thead>\n",
       "    <tr style=\"text-align: right;\">\n",
       "      <th></th>\n",
       "      <th>RESOURCE</th>\n",
       "      <th>MGR_ID</th>\n",
       "      <th>ROLE_ROLLUP_1</th>\n",
       "      <th>ROLE_ROLLUP_2</th>\n",
       "      <th>ROLE_DEPTNAME</th>\n",
       "      <th>ROLE_TITLE</th>\n",
       "      <th>ROLE_FAMILY_DESC</th>\n",
       "      <th>ROLE_FAMILY</th>\n",
       "      <th>ROLE_CODE</th>\n",
       "    </tr>\n",
       "    <tr>\n",
       "      <th>ACTION</th>\n",
       "      <th></th>\n",
       "      <th></th>\n",
       "      <th></th>\n",
       "      <th></th>\n",
       "      <th></th>\n",
       "      <th></th>\n",
       "      <th></th>\n",
       "      <th></th>\n",
       "      <th></th>\n",
       "    </tr>\n",
       "  </thead>\n",
       "  <tbody>\n",
       "    <tr>\n",
       "      <td>0</td>\n",
       "      <td>1897</td>\n",
       "      <td>1897</td>\n",
       "      <td>1897</td>\n",
       "      <td>1897</td>\n",
       "      <td>1897</td>\n",
       "      <td>1897</td>\n",
       "      <td>1897</td>\n",
       "      <td>1897</td>\n",
       "      <td>1897</td>\n",
       "    </tr>\n",
       "    <tr>\n",
       "      <td>1</td>\n",
       "      <td>30872</td>\n",
       "      <td>30872</td>\n",
       "      <td>30872</td>\n",
       "      <td>30872</td>\n",
       "      <td>30872</td>\n",
       "      <td>30872</td>\n",
       "      <td>30872</td>\n",
       "      <td>30872</td>\n",
       "      <td>30872</td>\n",
       "    </tr>\n",
       "  </tbody>\n",
       "</table>\n",
       "</div>"
      ],
      "text/plain": [
       "        RESOURCE  MGR_ID  ROLE_ROLLUP_1  ROLE_ROLLUP_2  ROLE_DEPTNAME  \\\n",
       "ACTION                                                                  \n",
       "0           1897    1897           1897           1897           1897   \n",
       "1          30872   30872          30872          30872          30872   \n",
       "\n",
       "        ROLE_TITLE  ROLE_FAMILY_DESC  ROLE_FAMILY  ROLE_CODE  \n",
       "ACTION                                                        \n",
       "0             1897              1897         1897       1897  \n",
       "1            30872             30872        30872      30872  "
      ]
     },
     "execution_count": 100,
     "metadata": {},
     "output_type": "execute_result"
    }
   ],
   "source": [
    "# Наблюдаем баланс выборки и как распределены данные в тренировочной выборке по искомому критерию\n",
    "train.groupby('ACTION').count()"
   ]
  },
  {
   "cell_type": "raw",
   "metadata": {},
   "source": [
    "Univariate analysis или одномерный анализ - анализ каждого признака по отдельности для определения и нахождения признаков, значения которого оказывают наиболее сильное влияние на модель и ее свойства."
   ]
  },
  {
   "cell_type": "code",
   "execution_count": 76,
   "metadata": {},
   "outputs": [
    {
     "data": {
      "image/png": "[encoded data removed]",
      "text/plain": [
       "<Figure size 432x288 with 1 Axes>"
      ]
     },
     "metadata": {
      "needs_background": "light"
     },
     "output_type": "display_data"
    },
    {
     "data": {
      "image/png": "[encoded data removed]",
      "text/plain": [
       "<Figure size 432x288 with 1 Axes>"
      ]
     },
     "metadata": {
      "needs_background": "light"
     },
     "output_type": "display_data"
    },
    {
     "data": {
      "image/png": "[encoded data removed]",
      "text/plain": [
       "<Figure size 432x288 with 1 Axes>"
      ]
     },
     "metadata": {
      "needs_background": "light"
     },
     "output_type": "display_data"
    },
    {
     "data": {
      "image/png": "[encoded data removed]",
      "text/plain": [
       "<Figure size 432x288 with 1 Axes>"
      ]
     },
     "metadata": {
      "needs_background": "light"
     },
     "output_type": "display_data"
    },
    {
     "data": {
      "image/png": "[encoded data removed]",
      "text/plain": [
       "<Figure size 432x288 with 1 Axes>"
      ]
     },
     "metadata": {
      "needs_background": "light"
     },
     "output_type": "display_data"
    },
    {
     "data": {
      "image/png": "[encoded data removed]",
      "text/plain": [
       "<Figure size 432x288 with 1 Axes>"
      ]
     },
     "metadata": {
      "needs_background": "light"
     },
     "output_type": "display_data"
    },
    {
     "data": {
      "image/png": "[encoded data removed]",
      "text/plain": [
       "<Figure size 432x288 with 1 Axes>"
      ]
     },
     "metadata": {
      "needs_background": "light"
     },
     "output_type": "display_data"
    },
    {
     "data": {
      "image/png": "[encoded data removed]",
      "text/plain": [
       "<Figure size 432x288 with 1 Axes>"
      ]
     },
     "metadata": {
      "needs_background": "light"
     },
     "output_type": "display_data"
    },
    {
     "data": {
      "image/png": "[encoded data removed]",
      "text/plain": [
       "<Figure size 432x288 with 1 Axes>"
      ]
     },
     "metadata": {
      "needs_background": "light"
     },
     "output_type": "display_data"
    },
    {
     "data": {
      "image/png": "[encoded data removed]",
      "text/plain": [
       "<Figure size 432x288 with 1 Axes>"
      ]
     },
     "metadata": {
      "needs_background": "light"
     },
     "output_type": "display_data"
    }
   ],
   "source": [
    "for i in train.var().index:\n",
    "    sns.distplot(train[i],kde=False)\n",
    "    plt.show()"
   ]
  },
  {
   "cell_type": "raw",
   "metadata": {},
   "source": [
    "Бивариантный анализ\n",
    "\n",
    "Корреляция – связь между двумя метрическими переменными. При построении корреляции, мы ищем признаки, зависимые друг от друга или каким-либо образом влияющие на значения друг друга. \n",
    "Коэффициент корреляции признака с самим собой всегда равен единице, это значение не должно учитываться при исследовании зависимостей.\n",
    "Удобное представление коэффициентов корреляции - тепловая карта, представленная ниже:"
   ]
  },
  {
   "cell_type": "code",
   "execution_count": 72,
   "metadata": {},
   "outputs": [
    {
     "data": {
      "text/plain": [
       "<matplotlib.axes._subplots.AxesSubplot at 0x29e210e7e48>"
      ]
     },
     "execution_count": 72,
     "metadata": {},
     "output_type": "execute_result"
    },
    {
     "data": {
      "image/png": "[encoded data removed]",
      "text/plain": [
       "<Figure size 1440x720 with 2 Axes>"
      ]
     },
     "metadata": {
      "needs_background": "light"
     },
     "output_type": "display_data"
    }
   ],
   "source": [
    "plt.figure(figsize=(20,10))\n",
    "sns.heatmap(train.corr())"
   ]
  },
  {
   "cell_type": "raw",
   "metadata": {},
   "source": [
    "Из построенной тепловой карты можно сделать вывод, что признаки слабо коррелируют между собой. Есть некоторая корреляция признаков, связанных с профессией (ROLE_TITLE, ROLE_FAMILY_DESC, ROLE_CODE), но эта корреляция очевидна на интуитивном уровне."
   ]
  },
  {
   "cell_type": "code",
   "execution_count": 116,
   "metadata": {},
   "outputs": [],
   "source": [
    "y_train = train['ACTION']\n",
    "x_train = train[train.columns.difference(['ACTION'])]\n",
    "x_test = test"
   ]
  },
  {
   "cell_type": "markdown",
   "metadata": {},
   "source": [
    "\n",
    "# Base classifiers"
   ]
  },
  {
   "cell_type": "raw",
   "metadata": {},
   "source": [
    "Классификатор дает «базовую» производительность – то есть показатель успеха, которого следует ожидать, даже если просто угадать."
   ]
  },
  {
   "cell_type": "raw",
   "metadata": {},
   "source": [
    "Если при анализе объектов обнаружено, что 90% содержат целевое свойство (что в нашем случае является близким), то угадать, что каждый будущий экземпляр объекта обладает целевым свойством, дает 90% вероятность правильного угадывания. \n",
    "Структурирование догадок таким образом эквивалентно использованию метода most_frequent."
   ]
  },
  {
   "cell_type": "code",
   "execution_count": 104,
   "metadata": {},
   "outputs": [
    {
     "data": {
      "text/plain": [
       "0.9421099209618847"
      ]
     },
     "execution_count": 104,
     "metadata": {},
     "output_type": "execute_result"
    }
   ],
   "source": [
    "from sklearn.dummy import DummyClassifier\n",
    "from sklearn.metrics import accuracy_score\n",
    "clf = DummyClassifier(strategy='most_frequent',random_state=0)\n",
    "clf.fit(x_train, y_train)\n",
    "predictions = clf.predict(x_train)\n",
    "accuracy_score(y_train,predictions)"
   ]
  },
  {
   "cell_type": "raw",
   "metadata": {},
   "source": [
    "При использовании фиктивного классификатора с параметром dummy, мы получим равномерное рандомное распределение, что нам точно не подходит, т.к. мы видим, что случай не получения доступа очень редок по сравнению со случаем его получения."
   ]
  },
  {
   "cell_type": "code",
   "execution_count": 40,
   "metadata": {},
   "outputs": [
    {
     "data": {
      "text/plain": [
       "0.4990387256248283"
      ]
     },
     "execution_count": 40,
     "metadata": {},
     "output_type": "execute_result"
    }
   ],
   "source": [
    "clf = DummyClassifier(strategy='uniform',random_state=0)\n",
    "clf.fit(x_train, y_train)\n",
    "clf.score(x_train,y_train)\n"
   ]
  },
  {
   "cell_type": "raw",
   "metadata": {},
   "source": [
    "При использовании фиктивного классификатора со stratified параметром, используя данные, рассмотренные выше, этот классификатор  прогнозирует вероятность 90% того, что каждый объект, с которым он сталкивается, обладает целевым свойством. \n",
    "Это отличается от обучения фиктивного классификатора параметром most_frequent , поскольку последний предположил бы, что все будущие объекты обладают целевым свойством."
   ]
  },
  {
   "cell_type": "code",
   "execution_count": 115,
   "metadata": {},
   "outputs": [
    {
     "data": {
      "text/plain": [
       "0.8905978211114163"
      ]
     },
     "execution_count": 115,
     "metadata": {},
     "output_type": "execute_result"
    }
   ],
   "source": [
    "clf = DummyClassifier(strategy='stratified',random_state=0)\n",
    "clf.fit(x_train, y_train)\n",
    "clf.score(x_train,y_train)"
   ]
  },
  {
   "cell_type": "markdown",
   "metadata": {},
   "source": [
    "#### Благодаря использованию вышеописанных классификаторов, а также просмотру описательных характеристик данных, мы видим, что выборка несбалансированна, поэтому мы можем не рассматривать некоторые методы, дающие качественную оценку только на сбалансированных данных \n"
   ]
  },
  {
   "cell_type": "markdown",
   "metadata": {},
   "source": [
    "## Часть 2."
   ]
  },
  {
   "cell_type": "markdown",
   "metadata": {},
   "source": [
    "##### Decision Tree Classifier"
   ]
  },
  {
   "cell_type": "raw",
   "metadata": {},
   "source": [
    "Дерево принятия решений\n",
    "Это метод поддержки принятия решений, основанный на использовании древовидного графа: модели принятия решений, которая учитывает их потенциальные последствия (с расчётом вероятности наступления того или иного события), эффективность, ресурсозатратность.\n",
    "\n",
    "Для бизнес-процессов это дерево складывается из минимального числа вопросов, предполагающих однозначный ответ — «да» или «нет». Последовательно дав ответы на все эти вопросы, мы приходим к правильному выбору. Методологические преимущества дерева принятия решений – в том, что оно структурирует и систематизирует проблему, а итоговое решение принимается на основе логических выводов."
   ]
  },
  {
   "cell_type": "code",
   "execution_count": 129,
   "metadata": {},
   "outputs": [
    {
     "name": "stdout",
     "output_type": "stream",
     "text": [
      "[[ 158  213]\n",
      " [ 238 5945]]\n",
      "Accuracy Score of test dataset\n",
      "0.9311870613365884\n",
      "Confusion matrix of train model\n",
      "[[ 1526     0]\n",
      " [    0 24689]]\n",
      "Accuracy Score of train dataset\n",
      "1.0\n"
     ]
    }
   ],
   "source": [
    "model = DecisionTreeClassifier()\n",
    "X_train,X_test,Y_train,Y_test=train_test_split(x_train,y_train,test_size=0.20,random_state=43)\n",
    "model.fit(X_train,Y_train)\n",
    "model.predict(X_test)\n",
    "model.predict(X_train)\n",
    "print(confusion_matrix(Y_test,model.predict(X_test)))\n",
    "print('Accuracy Score of test dataset')\n",
    "print(accuracy_score(Y_test,model.predict(X_test)))\n",
    "print(\"Confusion matrix of train model\")\n",
    "print(confusion_matrix(Y_train,model.predict(X_train)))\n",
    "print(\"Accuracy Score of train dataset\")\n",
    "print(accuracy_score(Y_train,model.predict(X_train)))"
   ]
  },
  {
   "cell_type": "code",
   "execution_count": 125,
   "metadata": {},
   "outputs": [
    {
     "data": {
      "text/plain": [
       "[Text(167.4, 190.26, 'X[4] <= 68840.0\\nentropy = 0.32\\nsamples = 26215\\nvalue = [1526, 24689]'),\n",
       " Text(83.7, 135.9, 'X[7] <= 117961.0\\nentropy = 0.477\\nsamples = 2905\\nvalue = [298, 2607]'),\n",
       " Text(41.85, 81.53999999999999, 'X[1] <= 38164.5\\nentropy = 0.261\\nsamples = 838\\nvalue = [37, 801]'),\n",
       " Text(20.925, 27.180000000000007, 'entropy = 0.323\\nsamples = 561\\nvalue = [33, 528]'),\n",
       " Text(62.775000000000006, 27.180000000000007, 'entropy = 0.109\\nsamples = 277\\nvalue = [4, 273]'),\n",
       " Text(125.55000000000001, 81.53999999999999, 'X[5] <= 61276.0\\nentropy = 0.547\\nsamples = 2067\\nvalue = [261, 1806]'),\n",
       " Text(104.625, 27.180000000000007, 'entropy = 0.997\\nsamples = 15\\nvalue = [8, 7]'),\n",
       " Text(146.475, 27.180000000000007, 'entropy = 0.539\\nsamples = 2052\\nvalue = [253, 1799]'),\n",
       " Text(251.10000000000002, 135.9, 'X[4] <= 262441.5\\nentropy = 0.298\\nsamples = 23310\\nvalue = [1228, 22082]'),\n",
       " Text(209.25, 81.53999999999999, 'X[0] <= 1722.0\\nentropy = 0.248\\nsamples = 11899\\nvalue = [491, 11408]'),\n",
       " Text(188.32500000000002, 27.180000000000007, 'entropy = 0.115\\nsamples = 844\\nvalue = [13, 831]'),\n",
       " Text(230.175, 27.180000000000007, 'entropy = 0.257\\nsamples = 11055\\nvalue = [478, 10577]'),\n",
       " Text(292.95, 81.53999999999999, 'X[8] <= 117925.5\\nentropy = 0.345\\nsamples = 11411\\nvalue = [737, 10674]'),\n",
       " Text(272.02500000000003, 27.180000000000007, 'entropy = 0.22\\nsamples = 2841\\nvalue = [100, 2741]'),\n",
       " Text(313.875, 27.180000000000007, 'entropy = 0.382\\nsamples = 8570\\nvalue = [637, 7933]')]"
      ]
     },
     "execution_count": 125,
     "metadata": {},
     "output_type": "execute_result"
    },
    {
     "data": {
      "image/png": "[encoded data removed]",
      "text/plain": [
       "<Figure size 432x288 with 1 Axes>"
      ]
     },
     "metadata": {
      "needs_background": "light"
     },
     "output_type": "display_data"
    }
   ],
   "source": [
    "from sklearn import tree\n",
    "tree.plot_tree(model.fit(X_train, Y_train)) # вывод дерева"
   ]
  },
  {
   "cell_type": "raw",
   "metadata": {},
   "source": [
    "Матрица ошибок (confusion matrix) — это способ разбить объекты на четыре категории в зависимости от комбинации истинного ответа и ответа алгоритма.\n",
    "\n",
    "Основные термины:\n",
    "TP — истино-положительное решение;\n",
    "TN — истино-отрицательное решение;\n",
    "FP — ложно-положительное решение (Ошибка первого рода);\n",
    "FN — ложно-отрицательное решение (Ошибка второго рода).\n"
   ]
  },
  {
   "attachments": {},
   "cell_type": "markdown",
   "metadata": {},
   "source": [
    "\\begin{equation*}\n",
    "\\frac{TP+TN}{{P + N}} =\\frac{TP+TN}{{TP + TN +FP +FN}}\n",
    "\\end{equation*}"
   ]
  },
  {
   "cell_type": "raw",
   "metadata": {},
   "source": [
    "Данная мeтрика имеет существенный недостаток — её значение необходимо оценивать в контексте баланса классов. Это означает, что доля положительных ответов сама по себе не несет никакой информации о качестве работы алгоритма a(x), и вместе с ней следует анализировать соотношение классов в выборке."
   ]
  },
  {
   "cell_type": "raw",
   "metadata": {},
   "source": [
    "Гораздо более информативными критериями являются точность (precision) и полнота (recall).\n",
    "\n",
    "Точность показывает, какая доля объектов, выделенных классификатором как положительные, действительно является положительными:"
   ]
  },
  {
   "cell_type": "markdown",
   "metadata": {},
   "source": [
    "\\begin{equation*}\n",
    "Precision =\\frac{TP}{{TP + FP}}\n",
    "\\end{equation*}"
   ]
  },
  {
   "cell_type": "raw",
   "metadata": {},
   "source": [
    "Полнота показывает, какая часть положительных объектов была выделена классификатором"
   ]
  },
  {
   "cell_type": "markdown",
   "metadata": {},
   "source": [
    "\\begin{equation*}\n",
    "Recall =\\frac{TP}{{TP + FN}}\n",
    "\\end{equation*}"
   ]
  },
  {
   "cell_type": "markdown",
   "metadata": {},
   "source": [
    "##### Bagging"
   ]
  },
  {
   "cell_type": "raw",
   "metadata": {},
   "source": [
    "Бэггинг (баггинг) - от англ. Bootstrap aggregating, это технология классификации, использующая композиции алгоритмов, каждый из которых обучается независимо. Результат классификации определяется путем голосования. Бэггинг позволяет снизить процент ошибки классификации в случае, когда высока дисперсия ошибки базового метода.\n",
    "Бэггинг – технология классификации, где все элементарные классификаторы обучаются и работают параллельно (независимо друг от друга). Идея заключается в том, что классификаторы не исправляют ошибки друг друга, а компенсируют их при \"голосовании\". Базовые классификаторы должны быть независимыми, это могут быть классификаторы основанные на разных группах методов или же обученные на независимых наборах данных."
   ]
  },
  {
   "cell_type": "code",
   "execution_count": 127,
   "metadata": {},
   "outputs": [
    {
     "name": "stdout",
     "output_type": "stream",
     "text": [
      "[[ 152  219]\n",
      " [ 118 6065]]\n",
      "Accuracy Score of test dataset\n",
      "0.9485810192249008\n",
      "Confusion matrix of train model\n",
      "[[ 1453    73]\n",
      " [   29 24660]]\n",
      "Accuracy Score of train dataset\n",
      "0.9961090978447453\n"
     ]
    }
   ],
   "source": [
    "b_model = BaggingClassifier()\n",
    "b_model.fit(X_train,Y_train)\n",
    "b_model.predict(X_test)\n",
    "b_model.predict(X_train)\n",
    "print(confusion_matrix(Y_test,b_model.predict(X_test)))\n",
    "print('Accuracy Score of test dataset')\n",
    "print(accuracy_score(Y_test,b_model.predict(X_test)))\n",
    "print(\"Confusion matrix of train model\")\n",
    "print(confusion_matrix(Y_train,b_model.predict(X_train)))\n",
    "print(\"Accuracy Score of train dataset\")\n",
    "print(accuracy_score(Y_train,b_model.predict(X_train)))"
   ]
  },
  {
   "cell_type": "markdown",
   "metadata": {},
   "source": [
    "##### AdaBoost"
   ]
  },
  {
   "cell_type": "raw",
   "metadata": {},
   "source": [
    "Алгоритм AdaBoost (сокр. от adaptive boosting) — алгоритм машинного обучения, предложенный Йоавом Фройндом (Yoav Freund) и Робертом Шапиром (Robert Schapire). Является мета-алгоритмом, в процессе обучения строит композицию из базовых алгоритмов обучения для улучшения их эффективности. AdaBoost является алгоритмом адаптивного бустинга в том смысле, что каждый следующий классификатор строится по объектам, которые плохо классифицируются предыдущими классификаторами.\n",
    "\n",
    "AdaBoost вызывает слабый классификатор в цикле. После каждого вызова обновляется распределение весов, которые отвечают важности каждого из объектов обучающего множества для классификации. На каждой итерации веса каждого неверно классифицированного объекта возрастают, таким образом новый классификатор «фокусирует своё внимание» на этих объектах.\n",
    "Алгоритм может использоваться в сочетании с несколькими алгоритмами классификации для улучшения их эффективности. Алгоритм усиливает классификаторы.\n",
    "\n",
    "Классификатор sklearn.ensemble.AdaBoostClassifier имеет 5 параметров: base_estimator, n_estimators, learning_rate, algorithm, random_state. \n",
    "\n",
    "Наиболее важными являются:\n",
    "base_estimator — базовый алгоритм. По умолчанию используется DecisionTreeClassifier(max_depth=1);\n",
    "n_estimators — максимальное количество оценок, после которого бустинг прекращается. Если произойдет полное совпадение, то закончится раньше;\n",
    "learning_rate — вклад каждой модели в весовые коэффициенты и значение по умолчанию равно 1. Снижение этого параметра будет означать, что весовые коэффициенты буду увеличиваться или уменьшаться в небольшой степени, вынуждая модель дольше обучаться (но иногда повышается производительность)."
   ]
  },
  {
   "cell_type": "code",
   "execution_count": 130,
   "metadata": {},
   "outputs": [
    {
     "name": "stderr",
     "output_type": "stream",
     "text": [
      "H:\\anaconda\\lib\\site-packages\\sklearn\\ensemble\\forest.py:245: FutureWarning: The default value of n_estimators will change from 10 in version 0.20 to 100 in 0.22.\n",
      "  \"10 in version 0.20 to 100 in 0.22.\", FutureWarning)\n"
     ]
    },
    {
     "name": "stdout",
     "output_type": "stream",
     "text": [
      "Accuracy: 0.9493439121147391\n"
     ]
    }
   ],
   "source": [
    "# для применения критерий испозьзуем модель случайного леса\n",
    "bdt = AdaBoostClassifier(RandomForestClassifier(),\n",
    "                         algorithm=\"SAMME\",\n",
    "                         n_estimators=1)\n",
    "\n",
    "bdt.fit(X_train, Y_train)\n",
    "y_pred = bdt.predict(X_test)\n",
    "\n",
    "print(\"Accuracy:\",accuracy_score(Y_test, y_pred))"
   ]
  },
  {
   "cell_type": "markdown",
   "metadata": {},
   "source": [
    "##### ROC AUC"
   ]
  },
  {
   "cell_type": "raw",
   "metadata": {},
   "source": [
    "ROC-кривая (англ. receiver operating characteristic, рабочая характеристика приёмника) — график, позволяющий оценить качество бинарной классификации, отображает соотношение между долей объектов от общего количества носителей признака, верно классифицированных как несущие признак (англ. true positive rate, TPR, называемой чувствительностью алгоритма классификации), и долей объектов от общего количества объектов, не несущих признака, ошибочно классифицированных как несущие признак (англ. false positive rate, FPR) при варьировании порога решающего правила.\n",
    "\n",
    "Количественную интерпретацию ROC даёт показатель AUC (англ. area under ROC curve, площадь под ROC-кривой) — площадь, ограниченная ROC-кривой и осью доли ложных положительных классификаций. Чем выше показатель AUC, тем качественнее классификатор, при этом значение 0,5 демонстрирует непригодность выбранного метода классификации (соответствует случайному гаданию).\n",
    "\n",
    "Так как мы наблюдаем и работаем с несбалансированной выборкой, было принято решение строить рок-кривую в связи с тем, что качество и точность кривой зависят от предсказанных вероятностей классов, а не от «жёсткой» дискретной классификации, то есть несбалансированность выборки не помешает точному определению данных."
   ]
  },
  {
   "cell_type": "code",
   "execution_count": 4,
   "metadata": {},
   "outputs": [
    {
     "data": {
      "text/html": [
       "<div>\n",
       "<style scoped>\n",
       "    .dataframe tbody tr th:only-of-type {\n",
       "        vertical-align: middle;\n",
       "    }\n",
       "\n",
       "    .dataframe tbody tr th {\n",
       "        vertical-align: top;\n",
       "    }\n",
       "\n",
       "    .dataframe thead th {\n",
       "        text-align: right;\n",
       "    }\n",
       "</style>\n",
       "<table border=\"1\" class=\"dataframe\">\n",
       "  <thead>\n",
       "    <tr style=\"text-align: right;\">\n",
       "      <th></th>\n",
       "      <th>RESOURCE</th>\n",
       "      <th>MGR_ID</th>\n",
       "      <th>ROLE_ROLLUP_1</th>\n",
       "      <th>ROLE_ROLLUP_2</th>\n",
       "      <th>ROLE_DEPTNAME</th>\n",
       "      <th>ROLE_TITLE</th>\n",
       "      <th>ROLE_FAMILY_DESC</th>\n",
       "      <th>ROLE_FAMILY</th>\n",
       "      <th>ROLE_CODE</th>\n",
       "    </tr>\n",
       "  </thead>\n",
       "  <tbody>\n",
       "    <tr>\n",
       "      <td>0</td>\n",
       "      <td>39353</td>\n",
       "      <td>85475</td>\n",
       "      <td>117961</td>\n",
       "      <td>118300</td>\n",
       "      <td>123472</td>\n",
       "      <td>117905</td>\n",
       "      <td>117906</td>\n",
       "      <td>290919</td>\n",
       "      <td>117908</td>\n",
       "    </tr>\n",
       "    <tr>\n",
       "      <td>1</td>\n",
       "      <td>17183</td>\n",
       "      <td>1540</td>\n",
       "      <td>117961</td>\n",
       "      <td>118343</td>\n",
       "      <td>123125</td>\n",
       "      <td>118536</td>\n",
       "      <td>118536</td>\n",
       "      <td>308574</td>\n",
       "      <td>118539</td>\n",
       "    </tr>\n",
       "    <tr>\n",
       "      <td>2</td>\n",
       "      <td>36724</td>\n",
       "      <td>14457</td>\n",
       "      <td>118219</td>\n",
       "      <td>118220</td>\n",
       "      <td>117884</td>\n",
       "      <td>117879</td>\n",
       "      <td>267952</td>\n",
       "      <td>19721</td>\n",
       "      <td>117880</td>\n",
       "    </tr>\n",
       "    <tr>\n",
       "      <td>3</td>\n",
       "      <td>36135</td>\n",
       "      <td>5396</td>\n",
       "      <td>117961</td>\n",
       "      <td>118343</td>\n",
       "      <td>119993</td>\n",
       "      <td>118321</td>\n",
       "      <td>240983</td>\n",
       "      <td>290919</td>\n",
       "      <td>118322</td>\n",
       "    </tr>\n",
       "    <tr>\n",
       "      <td>4</td>\n",
       "      <td>42680</td>\n",
       "      <td>5905</td>\n",
       "      <td>117929</td>\n",
       "      <td>117930</td>\n",
       "      <td>119569</td>\n",
       "      <td>119323</td>\n",
       "      <td>123932</td>\n",
       "      <td>19793</td>\n",
       "      <td>119325</td>\n",
       "    </tr>\n",
       "  </tbody>\n",
       "</table>\n",
       "</div>"
      ],
      "text/plain": [
       "   RESOURCE  MGR_ID  ROLE_ROLLUP_1  ROLE_ROLLUP_2  ROLE_DEPTNAME  ROLE_TITLE  \\\n",
       "0     39353   85475         117961         118300         123472      117905   \n",
       "1     17183    1540         117961         118343         123125      118536   \n",
       "2     36724   14457         118219         118220         117884      117879   \n",
       "3     36135    5396         117961         118343         119993      118321   \n",
       "4     42680    5905         117929         117930         119569      119323   \n",
       "\n",
       "   ROLE_FAMILY_DESC  ROLE_FAMILY  ROLE_CODE  \n",
       "0            117906       290919     117908  \n",
       "1            118536       308574     118539  \n",
       "2            267952        19721     117880  \n",
       "3            240983       290919     118322  \n",
       "4            123932        19793     119325  "
      ]
     },
     "execution_count": 4,
     "metadata": {},
     "output_type": "execute_result"
    }
   ],
   "source": [
    "#Убираем искомый параметр из тренировочной выборки\n",
    "train.pop(\"ACTION\")\n",
    "\n",
    "train.head()"
   ]
  },
  {
   "cell_type": "code",
   "execution_count": 32,
   "metadata": {
    "scrolled": true
   },
   "outputs": [
    {
     "data": {
      "text/html": [
       "<div>\n",
       "<style scoped>\n",
       "    .dataframe tbody tr th:only-of-type {\n",
       "        vertical-align: middle;\n",
       "    }\n",
       "\n",
       "    .dataframe tbody tr th {\n",
       "        vertical-align: top;\n",
       "    }\n",
       "\n",
       "    .dataframe thead th {\n",
       "        text-align: right;\n",
       "    }\n",
       "</style>\n",
       "<table border=\"1\" class=\"dataframe\">\n",
       "  <thead>\n",
       "    <tr style=\"text-align: right;\">\n",
       "      <th></th>\n",
       "      <th>RESOURCE</th>\n",
       "      <th>MGR_ID</th>\n",
       "      <th>ROLE_ROLLUP_1</th>\n",
       "      <th>ROLE_ROLLUP_2</th>\n",
       "      <th>ROLE_DEPTNAME</th>\n",
       "      <th>ROLE_TITLE</th>\n",
       "      <th>ROLE_FAMILY_DESC</th>\n",
       "      <th>ROLE_FAMILY</th>\n",
       "      <th>ROLE_CODE</th>\n",
       "    </tr>\n",
       "  </thead>\n",
       "  <tbody>\n",
       "    <tr>\n",
       "      <td>0</td>\n",
       "      <td>78766</td>\n",
       "      <td>72734</td>\n",
       "      <td>118079</td>\n",
       "      <td>118080</td>\n",
       "      <td>117878</td>\n",
       "      <td>117879</td>\n",
       "      <td>118177</td>\n",
       "      <td>19721</td>\n",
       "      <td>117880</td>\n",
       "    </tr>\n",
       "    <tr>\n",
       "      <td>1</td>\n",
       "      <td>40644</td>\n",
       "      <td>4378</td>\n",
       "      <td>117961</td>\n",
       "      <td>118327</td>\n",
       "      <td>118507</td>\n",
       "      <td>118863</td>\n",
       "      <td>122008</td>\n",
       "      <td>118398</td>\n",
       "      <td>118865</td>\n",
       "    </tr>\n",
       "    <tr>\n",
       "      <td>2</td>\n",
       "      <td>75443</td>\n",
       "      <td>2395</td>\n",
       "      <td>117961</td>\n",
       "      <td>118300</td>\n",
       "      <td>119488</td>\n",
       "      <td>118172</td>\n",
       "      <td>301534</td>\n",
       "      <td>249618</td>\n",
       "      <td>118175</td>\n",
       "    </tr>\n",
       "    <tr>\n",
       "      <td>3</td>\n",
       "      <td>43219</td>\n",
       "      <td>19986</td>\n",
       "      <td>117961</td>\n",
       "      <td>118225</td>\n",
       "      <td>118403</td>\n",
       "      <td>120773</td>\n",
       "      <td>136187</td>\n",
       "      <td>118960</td>\n",
       "      <td>120774</td>\n",
       "    </tr>\n",
       "    <tr>\n",
       "      <td>4</td>\n",
       "      <td>42093</td>\n",
       "      <td>50015</td>\n",
       "      <td>117961</td>\n",
       "      <td>118343</td>\n",
       "      <td>119598</td>\n",
       "      <td>118422</td>\n",
       "      <td>300136</td>\n",
       "      <td>118424</td>\n",
       "      <td>118425</td>\n",
       "    </tr>\n",
       "  </tbody>\n",
       "</table>\n",
       "</div>"
      ],
      "text/plain": [
       "   RESOURCE  MGR_ID  ROLE_ROLLUP_1  ROLE_ROLLUP_2  ROLE_DEPTNAME  ROLE_TITLE  \\\n",
       "0     78766   72734         118079         118080         117878      117879   \n",
       "1     40644    4378         117961         118327         118507      118863   \n",
       "2     75443    2395         117961         118300         119488      118172   \n",
       "3     43219   19986         117961         118225         118403      120773   \n",
       "4     42093   50015         117961         118343         119598      118422   \n",
       "\n",
       "   ROLE_FAMILY_DESC  ROLE_FAMILY  ROLE_CODE  \n",
       "0            118177        19721     117880  \n",
       "1            122008       118398     118865  \n",
       "2            301534       249618     118175  \n",
       "3            136187       118960     120774  \n",
       "4            300136       118424     118425  "
      ]
     },
     "execution_count": 32,
     "metadata": {},
     "output_type": "execute_result"
    }
   ],
   "source": [
    "test.pop(\"id\")\n",
    "\n",
    "test.head()"
   ]
  },
  {
   "cell_type": "raw",
   "metadata": {},
   "source": [
    "пробуем one-hot encoding\n",
    "One-hot Encoding применяется, когда один признак может принимать множество различных значений. Для удобства создается группа новых признаков, число которых равно числу уникальных значений признака. Далее на позицию, соответствующую численному значению признака мы помещаем 1, а значения остальных признаков делаем равными нулю. Таким образом работа с номинальными признаками становится понятной и логичной, чем нахождение числовых значений из строк и буквенных символов."
   ]
  },
  {
   "cell_type": "code",
   "execution_count": 61,
   "metadata": {},
   "outputs": [
    {
     "name": "stderr",
     "output_type": "stream",
     "text": [
      "H:\\anaconda\\lib\\site-packages\\ipykernel_launcher.py:1: FutureWarning: Sorting because non-concatenation axis is not aligned. A future version\n",
      "of pandas will change to not sort by default.\n",
      "\n",
      "To accept the future behavior, pass 'sort=False'.\n",
      "\n",
      "To retain the current behavior and silence the warning, pass 'sort=True'.\n",
      "\n",
      "  \"\"\"Entry point for launching an IPython kernel.\n"
     ]
    },
    {
     "name": "stdout",
     "output_type": "stream",
     "text": [
      "The data size is : (91690, 10) \n",
      "The data_dummies size is : (91690, 16953) \n"
     ]
    }
   ],
   "source": [
    "data = pd.concat([train, test],axis=0)\n",
    "print(\"The data size is : {} \".format(data.shape))\n",
    "\n",
    "data_dummies = pd.get_dummies(data, columns=data.columns, drop_first=True) \n",
    "print(\"The data_dummies size is : {} \".format(data_dummies.shape))"
   ]
  },
  {
   "cell_type": "raw",
   "metadata": {},
   "source": [
    "Имея изначально всего 10 признаков, мы получили почти 17000 различных уникальных значений"
   ]
  },
  {
   "cell_type": "code",
   "execution_count": 8,
   "metadata": {},
   "outputs": [
    {
     "name": "stdout",
     "output_type": "stream",
     "text": [
      "The  new_train size is : (32769, 16952) \n",
      "The  new_test size is : (58921, 16952) \n"
     ]
    }
   ],
   "source": [
    "lr_train = data_dummies.iloc[:y.shape[0]]\n",
    "lr_test = data_dummies.iloc[y.shape[0]:]\n",
    "\n",
    "print(\"The  new_train size is : {} \".format(lr_train.shape))\n",
    "print(\"The  new_test size is : {} \".format(lr_test.shape))"
   ]
  },
  {
   "cell_type": "markdown",
   "metadata": {},
   "source": [
    "## Logistic regression on hot encoded data"
   ]
  },
  {
   "cell_type": "raw",
   "metadata": {},
   "source": [
    "Логистическая регрессия представляет собой мощный статистический способ прогнозирования вероятности возникновения некоторого события с одной или несколькими независимыми переменными. Логистическая регрессия это способ определения зависимости между переменными, одна из которых категориально зависима, а другие независимы. Практическое значение логистической регрессии заключается в том, что она является мощным статистическим методом предсказания событий, который включает в себя одну или несколько независимых переменных. Логистическая регрессия позволяет предсказывать значения непрерывной зависимой переменной на интервале от 0 до 1.\n",
    "В отличие от обычной регрессии, в методе логистической регрессии не производится предсказание значения числовой переменной исходя из выборки исходных значений. Вместо этого, значением функции является вероятность того, что данное исходное значение принадлежит к определенному классу."
   ]
  },
  {
   "cell_type": "raw",
   "metadata": {},
   "source": [
    "Параметры логистической регрессии\n",
    "solver : ‘newton-cg’, ‘lbfgs’, ‘liblinear’, ‘sag’(default =’liblinear’), – алгоритм, который используется для решения проблемы оптимизации.\n",
    "    Для небольших данных – ’liblinear’, ’sag’ – быстрее набольших данных, при этом данные должны быть в одной шкале\n",
    "    Для многоклассовых задач используются только‘newton-cg’ и ‘lbfgs’.\n",
    "penalty: ’l1’, ’l2’(default = ’l2’),– вид регуляризации\n",
    "C: float(default=1.0)– параметр регуляризации, должен быть положительным float. Меньшее С обеспечивает более сильную регуляризацию.\n",
    "fit_intercept : bool(default = True) – определяет добавлять ли константу к решающей функции\n",
    "class_weight : dict or ‘balanced’(default=None)– веса,ассоциированнные с классами, записываются в форме{class_label: weight}. Если параметр не указан, все весапредполагаются равными 1. \n",
    "    ’balanced’ использует значения y, чтобы автоматически установить веса обратно пропорционально частотам класса во входных данных.\n",
    "max_iter : int(default=100) – используется только для newton-cg, sag и lbfgs. Максимальное число итераций.\n",
    "random_state : int seed, RandomState instance, or None(default) – для инициализации генератора псевдослучайных чисел при перемешивании данных."
   ]
  },
  {
   "cell_type": "code",
   "execution_count": 11,
   "metadata": {},
   "outputs": [],
   "source": [
    "lr = LogisticRegression(random_state=333,C=0.99,class_weight=\"balanced\",penalty=\"l1\"))"
   ]
  },
  {
   "cell_type": "code",
   "execution_count": 12,
   "metadata": {},
   "outputs": [],
   "source": [
    "lr_X_train, lr_X_test, lr_y_train, lr_y_test = train_test_split(lr_train, y, test_size=0.4)"
   ]
  },
  {
   "cell_type": "code",
   "execution_count": 13,
   "metadata": {},
   "outputs": [
    {
     "name": "stderr",
     "output_type": "stream",
     "text": [
      "H:\\anaconda\\lib\\site-packages\\sklearn\\linear_model\\logistic.py:432: FutureWarning: Default solver will be changed to 'lbfgs' in 0.22. Specify a solver to silence this warning.\n",
      "  FutureWarning)\n"
     ]
    },
    {
     "data": {
      "image/png": "[encoded data removed]",
      "text/plain": [
       "<Figure size 432x288 with 1 Axes>"
      ]
     },
     "metadata": {
      "needs_background": "light"
     },
     "output_type": "display_data"
    }
   ],
   "source": [
    "lr.fit(lr_X_train,lr_y_train)\n",
    "lr_pred_proba = lr.predict_proba(lr_X_test)\n",
    "\n",
    "plt.hist(lr_pred_proba,bins=20)\n",
    "plt.xlim([0.0,1.0])\n",
    "\n",
    "plt.show()"
   ]
  },
  {
   "cell_type": "code",
   "execution_count": 107,
   "metadata": {},
   "outputs": [
    {
     "name": "stdout",
     "output_type": "stream",
     "text": [
      "0.8394930964952466\n"
     ]
    },
    {
     "data": {
      "image/png": "[encoded data removed]",
      "text/plain": [
       "<Figure size 432x288 with 1 Axes>"
      ]
     },
     "metadata": {
      "needs_background": "light"
     },
     "output_type": "display_data"
    }
   ],
   "source": [
    "fpr, tpr, thresholds = roc_curve(lr_y_test.values,lr_pred_proba[:,1])\n",
    "print(roc_auc_score(lr_y_test.values,lr_pred_proba[:,1]))\n",
    "plt.plot(fpr,tpr)\n",
    "plt.xlim([0.0,1.0])\n",
    "plt.ylim([0.0,1.0])\n",
    "\n",
    "plt.title(\"Amazon Employee Access, ROC AUC for Logistic Regression on One-hot Encoded data\")\n",
    "plt.xlabel(\"False Positive\")\n",
    "plt.ylabel(\"True Positive\")\n",
    "\n",
    "plt.grid(True)\n",
    "plt.show()"
   ]
  },
  {
   "cell_type": "markdown",
   "metadata": {},
   "source": [
    "### Random forest"
   ]
  },
  {
   "cell_type": "raw",
   "metadata": {},
   "source": [
    "Random forest (с англ. — «случайный лес») — алгоритм машинного обучения, предложенный Лео Брейманом и Адель Катлер, заключающийся в использовании комитета (ансамбля) решающих деревьев. Алгоритм сочетает в себе две основные идеи: метод бэггинга Бреймана, и метод случайных подпространств, предложенный Tin Kam Ho. Алгоритм применяется для задач классификации, регрессии и кластеризации. Основная идея заключается в использовании большого ансамбля решающих деревьев, каждое из которых само по себе даёт очень невысокое качество классификации, но за счёт их большого количества результат получается хорошим."
   ]
  },
  {
   "cell_type": "code",
   "execution_count": 15,
   "metadata": {},
   "outputs": [
    {
     "data": {
      "text/plain": [
       "0        117880\n",
       "1        118865\n",
       "2        118175\n",
       "3        120774\n",
       "4        118425\n",
       "          ...  \n",
       "58916    118786\n",
       "58917    118055\n",
       "58918    118279\n",
       "58919    118322\n",
       "58920    119435\n",
       "Name: ROLE_CODE, Length: 58921, dtype: int64"
      ]
     },
     "execution_count": 15,
     "metadata": {},
     "output_type": "execute_result"
    }
   ],
   "source": [
    "#убираем признак ROLE_CODE в связи с тем что он дублируется\n",
    "train.pop(\"ROLE_CODE\")\n",
    "test.pop(\"ROLE_CODE\")"
   ]
  },
  {
   "cell_type": "code",
   "execution_count": 108,
   "metadata": {},
   "outputs": [
    {
     "name": "stdout",
     "output_type": "stream",
     "text": [
      "The all_data size is : (91690, 10) \n"
     ]
    },
    {
     "name": "stderr",
     "output_type": "stream",
     "text": [
      "H:\\anaconda\\lib\\site-packages\\ipykernel_launcher.py:1: FutureWarning: Sorting because non-concatenation axis is not aligned. A future version\n",
      "of pandas will change to not sort by default.\n",
      "\n",
      "To accept the future behavior, pass 'sort=False'.\n",
      "\n",
      "To retain the current behavior and silence the warning, pass 'sort=True'.\n",
      "\n",
      "  \"\"\"Entry point for launching an IPython kernel.\n"
     ]
    }
   ],
   "source": [
    "# Соединяем тестовую и тренировочную выборку\n",
    "rf_all_data = pd.concat([train, test],axis=0)\n",
    "print(\"The all_data size is : {} \".format(rf_all_data.shape))"
   ]
  },
  {
   "cell_type": "code",
   "execution_count": 17,
   "metadata": {},
   "outputs": [],
   "source": [
    "# Находим частоту встречаемости каждого признака\n",
    "def add_counts(data):\n",
    "    for col in data.columns: \n",
    "        count = data[col].value_counts()\n",
    "        data['count_'+col] = data[col].replace(count)\n",
    "    return data\n",
    "\n",
    "train = add_counts(rf_all_data)"
   ]
  },
  {
   "cell_type": "code",
   "execution_count": 18,
   "metadata": {},
   "outputs": [],
   "source": [
    "rf_train = rf_all_data.iloc[:y.shape[0]]\n",
    "rf_test = rf_all_data.iloc[y.shape[0]:]"
   ]
  },
  {
   "cell_type": "code",
   "execution_count": 19,
   "metadata": {},
   "outputs": [],
   "source": [
    "rf = RandomForestClassifier(criterion=\"gini\",\n",
    "                           n_estimators=300,#250\n",
    "                            min_samples_split=9,\n",
    "                            min_samples_leaf=3,\n",
    "                            max_features=0.5,\n",
    "                           random_state=66,\n",
    "                           n_jobs=-1)"
   ]
  },
  {
   "cell_type": "code",
   "execution_count": 20,
   "metadata": {},
   "outputs": [],
   "source": [
    "rf_X_train, rf_X_test, rf_y_train, rf_y_test = train_test_split(rf_train, y, test_size=0.4)"
   ]
  },
  {
   "cell_type": "code",
   "execution_count": 63,
   "metadata": {},
   "outputs": [
    {
     "name": "stdout",
     "output_type": "stream",
     "text": [
      "[[4.73905169e-02 9.52609483e-01]\n",
      " [8.32462260e-02 9.16753774e-01]\n",
      " [1.27290765e-02 9.87270924e-01]\n",
      " ...\n",
      " [7.53968254e-04 9.99246032e-01]\n",
      " [1.73880749e-02 9.82611925e-01]\n",
      " [2.21766104e-02 9.77823390e-01]]\n"
     ]
    }
   ],
   "source": [
    "rf.fit(rf_X_train,rf_y_train)\n",
    "rf_pred_proba = rf.predict_proba(rf_X_test)"
   ]
  },
  {
   "cell_type": "code",
   "execution_count": 66,
   "metadata": {},
   "outputs": [
    {
     "name": "stdout",
     "output_type": "stream",
     "text": [
      "0.8587150005526456\n"
     ]
    },
    {
     "data": {
      "image/png": "[encoded data removed]",
      "text/plain": [
       "<Figure size 432x288 with 1 Axes>"
      ]
     },
     "metadata": {
      "needs_background": "light"
     },
     "output_type": "display_data"
    }
   ],
   "source": [
    "fpr, tpr, thresholds = roc_curve(rf_y_test.values,rf_pred_proba[:,1])\n",
    "print(roc_auc_score(rf_y_test.values,rf_pred_proba[:,1]))\n",
    "plt.plot(fpr,tpr)\n",
    "plt.xlim([0.0,1.0])\n",
    "plt.ylim([0.0,1.0])\n",
    "\n",
    "plt.title(\"Amazon Employee Access for Random Forest\")\n",
    "plt.xlabel(\"False Positive\")\n",
    "plt.ylabel(\"True Positive\")\n",
    "\n",
    "plt.grid(True)\n",
    "plt.show()"
   ]
  },
  {
   "cell_type": "markdown",
   "metadata": {},
   "source": [
    "#### Gradient boosting"
   ]
  },
  {
   "cell_type": "raw",
   "metadata": {},
   "source": [
    "Ансамбль — это набор предсказателей, которые вместе дают ответ (например, среднее по всем). Причина почему мы используем ансамбли — несколько предсказателей, которые пытаясь получить одну и ту же переменную дадут более точный результат, нежели одиночный предсказатель. \n",
    "Бустинг — это техника построения ансамблей, в которой предсказатели построены не независимо, а последовательно\n",
    "Это техника использует идею о том, что следующая модель будет учится на ошибках предыдущей. Они имеют неравную вероятность появления в последующих моделях, и чаще появятся те, что дают наибольшую ошибку. Предсказатели могут быть выбраны из широкого ассортимента моделей, например, деревья решений, регрессия, классификаторы и т.д. Нужно выбирать критерий остановки с осторожностью, иначе это может привести к переобучению. Градиентный бустинг — это пример бустинга.\n",
    "Градиентный бустинг — это техника машинного обучения для задач классификации и регрессии, которая строит модель предсказания в форме ансамбля слабых предсказывающих моделей, обычно деревьев решений."
   ]
  },
  {
   "cell_type": "code",
   "execution_count": 24,
   "metadata": {},
   "outputs": [],
   "source": [
    "gbc_train = rf_train\n",
    "gbc_test = rf_test"
   ]
  },
  {
   "cell_type": "code",
   "execution_count": 25,
   "metadata": {},
   "outputs": [
    {
     "data": {
      "text/plain": [
       "array([[ 1.16802002,  1.3113764 ,  0.09720754, ...,  0.08437938,\n",
       "        -0.49106582, -0.34020656],\n",
       "       [ 0.03737748, -0.63553629,  0.08628703, ..., -0.73172713,\n",
       "        -0.54167847, -0.695597  ],\n",
       "       [ 1.06946472, -0.69201601,  0.08628703, ..., -0.77347051,\n",
       "        -0.49179302, -0.95396075],\n",
       "       ...,\n",
       "       [-0.00361061, -0.58609161,  0.08628703, ..., -0.68458994,\n",
       "        -0.47724915,  1.48059755],\n",
       "       [-1.1377232 , -0.5131778 ,  0.08628703, ...,  2.01770755,\n",
       "         2.06501849,  1.48059755],\n",
       "       [ 0.16588789, -0.64863799,  0.08628703, ..., -0.67239525,\n",
       "        -0.40278456, -0.30585014]])"
      ]
     },
     "execution_count": 25,
     "metadata": {},
     "output_type": "execute_result"
    }
   ],
   "source": [
    "from sklearn.preprocessing import StandardScaler \n",
    "SS = StandardScaler(copy=False, with_mean=True, with_std=True) \n",
    "SS.fit_transform(gbc_train)\n",
    "SS.fit_transform(gbc_test)"
   ]
  },
  {
   "cell_type": "code",
   "execution_count": 68,
   "metadata": {},
   "outputs": [
    {
     "name": "stdout",
     "output_type": "stream",
     "text": [
      "0.836938366822399\n"
     ]
    },
    {
     "data": {
      "image/png": "[encoded data removed]",
      "text/plain": [
       "<Figure size 432x288 with 1 Axes>"
      ]
     },
     "metadata": {
      "needs_background": "light"
     },
     "output_type": "display_data"
    }
   ],
   "source": [
    "gbc = GradientBoostingClassifier(n_estimators=3000, min_samples_split=9)\n",
    "gbc.fit(rf_X_train,rf_y_train)\n",
    "gbc_pred_proba = gbc.predict_proba(rf_X_test)\n",
    "fpr, tpr, thresholds = roc_curve(rf_y_test.values,gbc_pred_proba[:,1])\n",
    "print(roc_auc_score(rf_y_test.values,gbc_pred_proba[:,1]))\n",
    "plt.plot(fpr,tpr)\n",
    "plt.xlim([0.0,1.0])\n",
    "plt.ylim([0.0,1.0])\n",
    "\n",
    "plt.title(\"Amazon Employee Access\")\n",
    "plt.xlabel(\"False Positive\")\n",
    "plt.ylabel(\"True Positive\")\n",
    "\n",
    "plt.grid(True)\n",
    "plt.show()"
   ]
  },
  {
   "cell_type": "markdown",
   "metadata": {},
   "source": [
    "## Выводы"
   ]
  },
  {
   "cell_type": "raw",
   "metadata": {},
   "source": [
    "Сравним финальные оценки:"
   ]
  },
  {
   "cell_type": "markdown",
   "metadata": {},
   "source": [
    "| Метод | Оценка |\n",
    "| --- | --- |\n",
    "| most frequent dummy classifier | 0.9421099209618847 |\n",
    "| uniform dummy classifier | 0.4990387256248283 |\n",
    "| stratified dummy classifier | 0.8905978211114163 |\n",
    "| Decision Tree Classifier | 0.9311870613365884  |\n",
    "| Bagging | 0.9485810192249008 |\n",
    "| AdaBoost on Random Forest | 0.9493439121147391 |\n",
    "| One-hot Encoded Logistic Regression | 0.8394930964952466 |\n",
    "| One-hot encoded Random Forest | 0.8587150005526456 |\n",
    "| Gradient Boosting on standartized data | 0.836938366822399 |"
   ]
  },
  {
   "cell_type": "raw",
   "metadata": {},
   "source": [
    "Можно заметить, что на выборках, в которых признаки были обработаны методом one-hot encoding, оценки ниже. \n",
    "Лучшая оценка при использовании метода AdaBoost, который улучшил примененный алгоритм случайных деревьев. Таким образом, изучив и применив различные методы тренировки модели, мы добились того, что наша лучшая модель дает ответ с ошибкой меньше, чем 6%, что является очень высоким показателем."
   ]
  }
 ],
 "metadata": {
  "kernelspec": {
   "display_name": "Python 3",
   "language": "python",
   "name": "python3"
  },
  "language_info": {
   "codemirror_mode": {
    "name": "ipython",
    "version": 3
   },
   "file_extension": ".py",
   "mimetype": "text/x-python",
   "name": "python",
   "nbconvert_exporter": "python",
   "pygments_lexer": "ipython3",
   "version": "3.7.4"
  }
 },
 "nbformat": 4,
 "nbformat_minor": 2
}
